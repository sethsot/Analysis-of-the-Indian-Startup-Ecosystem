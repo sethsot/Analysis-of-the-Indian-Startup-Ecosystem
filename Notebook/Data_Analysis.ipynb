{
 "cells": [
  {
   "cell_type": "markdown",
   "metadata": {},
   "source": [
    "# PROJECT : \n",
    "\n",
    "## BACKGROUND\n",
    "This project investigates the funding of indian startup ecosystem, Based on four different (2018,2019,2020,2021) years' data, this project will answer the hypothesis and follow-up questions\n",
    "\n",
    "## HYPOTHESIS\n",
    "\n",
    "### Research Questions\n",
    "\n",
    "\n"
   ]
  },
  {
   "cell_type": "markdown",
   "metadata": {},
   "source": []
  }
 ],
 "metadata": {
  "language_info": {
   "name": "python"
  },
  "orig_nbformat": 4
 },
 "nbformat": 4,
 "nbformat_minor": 2
}
