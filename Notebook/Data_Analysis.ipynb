{
 "cells": [
  {
   "cell_type": "markdown",
   "metadata": {},
   "source": [
    "# INDIAN STARTUP ECOSYSTEM"
   ]
  },
  {
   "cell_type": "markdown",
   "metadata": {},
   "source": [
    "## Business Understanding\n",
    "\n",
    "Our team aims to explore and penetrate the Indian start-up ecosystem. With our expertise in data analysis, we are dedicated to conducting a comprehensive investigation of this ecosystem and formulating optimal strategies and recommendations for success.\n",
    "\n",
    "## Data for this project\n",
    "\n",
    "Dataset for this project are four(4) csv files from 2018 to 2021. They were obtained from the following sources;\n",
    "\n",
    "- 2020 & 2021 were obtained from Microsoft SQL server\n",
    "      -- dbo.LP1_startup_funding2020\n",
    "      -- dbo.LP1_startup_funding2021\n",
    "\n",
    "- startup_funding2019 was downloaded from OneDrive\n",
    "\n",
    "- startup_funding2018 was downloaded from GitHub Repository"
   ]
  },
  {
   "cell_type": "markdown",
   "metadata": {},
   "source": [
    "# HYPOTHESIS\n",
    "\n",
    "Null: \n",
    "\n",
    "Alternate: \n",
    "\n",
    "# Research Questions\n",
    "\n",
    "1) \n",
    "\n",
    "2)\n",
    "\n",
    "3)\n",
    "\n",
    "4)\n",
    "\n",
    "5)"
   ]
  },
  {
   "cell_type": "markdown",
   "metadata": {},
   "source": [
    "## Import Libraries and Packages"
   ]
  },
  {
   "cell_type": "code",
   "execution_count": 2,
   "metadata": {},
   "outputs": [
    {
     "name": "stdout",
     "output_type": "stream",
     "text": [
      "Collecting seaborn\n",
      "  Using cached seaborn-0.12.2-py3-none-any.whl (293 kB)\n",
      "Requirement already satisfied: numpy!=1.24.0,>=1.17 in c:\\users\\lenovo\\desktop\\azubi\\project_lp1\\.venv\\lib\\site-packages (from seaborn) (1.25.1)\n",
      "Requirement already satisfied: pandas>=0.25 in c:\\users\\lenovo\\desktop\\azubi\\project_lp1\\.venv\\lib\\site-packages (from seaborn) (2.0.3)\n",
      "Collecting matplotlib!=3.6.1,>=3.1 (from seaborn)\n",
      "  Using cached matplotlib-3.7.2-cp311-cp311-win_amd64.whl (7.5 MB)\n",
      "Collecting contourpy>=1.0.1 (from matplotlib!=3.6.1,>=3.1->seaborn)\n",
      "  Using cached contourpy-1.1.0-cp311-cp311-win_amd64.whl (470 kB)\n",
      "Collecting cycler>=0.10 (from matplotlib!=3.6.1,>=3.1->seaborn)\n",
      "  Using cached cycler-0.11.0-py3-none-any.whl (6.4 kB)\n",
      "Collecting fonttools>=4.22.0 (from matplotlib!=3.6.1,>=3.1->seaborn)\n",
      "  Downloading fonttools-4.41.0-cp311-cp311-win_amd64.whl (2.0 MB)\n",
      "                                              0.0/2.0 MB ? eta -:--:--\n",
      "                                              0.0/2.0 MB 991.0 kB/s eta 0:00:02\n",
      "     -----------                              0.6/2.0 MB 6.1 MB/s eta 0:00:01\n",
      "     ----------------                         0.8/2.0 MB 5.7 MB/s eta 0:00:01\n",
      "     ------------------                       0.9/2.0 MB 4.8 MB/s eta 0:00:01\n",
      "     --------------------                     1.0/2.0 MB 4.2 MB/s eta 0:00:01\n",
      "     -----------------------                  1.1/2.0 MB 4.0 MB/s eta 0:00:01\n",
      "     --------------------------               1.3/2.0 MB 4.0 MB/s eta 0:00:01\n",
      "     -----------------------------            1.5/2.0 MB 3.9 MB/s eta 0:00:01\n",
      "     --------------------------------         1.6/2.0 MB 3.8 MB/s eta 0:00:01\n",
      "     -----------------------------------      1.7/2.0 MB 3.8 MB/s eta 0:00:01\n",
      "     -------------------------------------    1.8/2.0 MB 3.7 MB/s eta 0:00:01\n",
      "     ---------------------------------------  1.9/2.0 MB 3.4 MB/s eta 0:00:01\n",
      "     ---------------------------------------  1.9/2.0 MB 3.2 MB/s eta 0:00:01\n",
      "     ---------------------------------------- 2.0/2.0 MB 3.1 MB/s eta 0:00:00\n",
      "Collecting kiwisolver>=1.0.1 (from matplotlib!=3.6.1,>=3.1->seaborn)\n",
      "  Using cached kiwisolver-1.4.4-cp311-cp311-win_amd64.whl (55 kB)\n",
      "Requirement already satisfied: packaging>=20.0 in c:\\users\\lenovo\\desktop\\azubi\\project_lp1\\.venv\\lib\\site-packages (from matplotlib!=3.6.1,>=3.1->seaborn) (23.1)\n",
      "Collecting pillow>=6.2.0 (from matplotlib!=3.6.1,>=3.1->seaborn)\n",
      "  Using cached Pillow-10.0.0-cp311-cp311-win_amd64.whl (2.5 MB)\n",
      "Collecting pyparsing<3.1,>=2.3.1 (from matplotlib!=3.6.1,>=3.1->seaborn)\n",
      "  Using cached pyparsing-3.0.9-py3-none-any.whl (98 kB)\n",
      "Requirement already satisfied: python-dateutil>=2.7 in c:\\users\\lenovo\\desktop\\azubi\\project_lp1\\.venv\\lib\\site-packages (from matplotlib!=3.6.1,>=3.1->seaborn) (2.8.2)\n",
      "Requirement already satisfied: pytz>=2020.1 in c:\\users\\lenovo\\desktop\\azubi\\project_lp1\\.venv\\lib\\site-packages (from pandas>=0.25->seaborn) (2023.3)\n",
      "Requirement already satisfied: tzdata>=2022.1 in c:\\users\\lenovo\\desktop\\azubi\\project_lp1\\.venv\\lib\\site-packages (from pandas>=0.25->seaborn) (2023.3)\n",
      "Requirement already satisfied: six>=1.5 in c:\\users\\lenovo\\desktop\\azubi\\project_lp1\\.venv\\lib\\site-packages (from python-dateutil>=2.7->matplotlib!=3.6.1,>=3.1->seaborn) (1.16.0)\n",
      "Installing collected packages: pyparsing, pillow, kiwisolver, fonttools, cycler, contourpy, matplotlib, seaborn\n",
      "Successfully installed contourpy-1.1.0 cycler-0.11.0 fonttools-4.41.0 kiwisolver-1.4.4 matplotlib-3.7.2 pillow-10.0.0 pyparsing-3.0.9 seaborn-0.12.2\n",
      "Note: you may need to restart the kernel to use updated packages.\n"
     ]
    }
   ],
   "source": [
    "%pip install seaborn"
   ]
  },
  {
   "cell_type": "code",
   "execution_count": 6,
   "metadata": {},
   "outputs": [
    {
     "name": "stdout",
     "output_type": "stream",
     "text": [
      "Collecting scikit-learn\n",
      "  Downloading scikit_learn-1.3.0-cp311-cp311-win_amd64.whl (9.2 MB)\n",
      "                                              0.0/9.2 MB ? eta -:--:--\n",
      "     ---                                      0.7/9.2 MB 14.6 MB/s eta 0:00:01\n",
      "     --------                                 2.0/9.2 MB 21.7 MB/s eta 0:00:01\n",
      "     -------------                            3.1/9.2 MB 21.9 MB/s eta 0:00:01\n",
      "     ------------------                       4.2/9.2 MB 22.1 MB/s eta 0:00:01\n",
      "     ----------------------                   5.2/9.2 MB 21.9 MB/s eta 0:00:01\n",
      "     --------------------------               6.1/9.2 MB 21.6 MB/s eta 0:00:01\n",
      "     ------------------------------           7.1/9.2 MB 21.5 MB/s eta 0:00:01\n",
      "     ----------------------------------       8.0/9.2 MB 21.4 MB/s eta 0:00:01\n",
      "     --------------------------------------   8.9/9.2 MB 21.1 MB/s eta 0:00:01\n",
      "     ---------------------------------------  9.2/9.2 MB 21.7 MB/s eta 0:00:01\n",
      "     ---------------------------------------  9.2/9.2 MB 21.7 MB/s eta 0:00:01\n",
      "     ---------------------------------------- 9.2/9.2 MB 17.8 MB/s eta 0:00:00\n",
      "Requirement already satisfied: numpy>=1.17.3 in c:\\users\\lenovo\\desktop\\azubi\\project_lp1\\.venv\\lib\\site-packages (from scikit-learn) (1.25.1)\n",
      "Collecting scipy>=1.5.0 (from scikit-learn)\n",
      "  Using cached scipy-1.11.1-cp311-cp311-win_amd64.whl (44.0 MB)\n",
      "Collecting joblib>=1.1.1 (from scikit-learn)\n",
      "  Downloading joblib-1.3.1-py3-none-any.whl (301 kB)\n",
      "                                              0.0/302.0 kB ? eta -:--:--\n",
      "     ---------------------------------------- 302.0/302.0 kB ? eta 0:00:00\n",
      "Collecting threadpoolctl>=2.0.0 (from scikit-learn)\n",
      "  Downloading threadpoolctl-3.2.0-py3-none-any.whl (15 kB)\n",
      "Installing collected packages: threadpoolctl, scipy, joblib, scikit-learn\n",
      "Successfully installed joblib-1.3.1 scikit-learn-1.3.0 scipy-1.11.1 threadpoolctl-3.2.0\n",
      "Note: you may need to restart the kernel to use updated packages.\n"
     ]
    }
   ],
   "source": [
    "%pip install scikit-learn"
   ]
  },
  {
   "cell_type": "code",
   "execution_count": 1,
   "metadata": {},
   "outputs": [],
   "source": [
    "import pandas as pd\n",
    "import numpy as np\n",
    "import datetime as dt\n",
    "from sklearn.impute import SimpleImputer\n",
    "import re\n",
    "\n",
    "import seaborn as sns\n",
    "import matplotlib.pyplot as plt\n",
    "\n",
    "import os"
   ]
  },
  {
   "cell_type": "code",
   "execution_count": 2,
   "metadata": {},
   "outputs": [],
   "source": [
    "## Load Data\n",
    "\n",
    "#Load 2020 dataset for cleaning \n",
    "\n",
    "df_2020=pd.read_csv('startup_function2020.csv')"
   ]
  },
  {
   "cell_type": "markdown",
   "metadata": {},
   "source": [
    "## Exploratory Data Analysis (EDA)"
   ]
  },
  {
   "cell_type": "code",
   "execution_count": 3,
   "metadata": {},
   "outputs": [
    {
     "data": {
      "text/html": [
       "<div>\n",
       "<style scoped>\n",
       "    .dataframe tbody tr th:only-of-type {\n",
       "        vertical-align: middle;\n",
       "    }\n",
       "\n",
       "    .dataframe tbody tr th {\n",
       "        vertical-align: top;\n",
       "    }\n",
       "\n",
       "    .dataframe thead th {\n",
       "        text-align: right;\n",
       "    }\n",
       "</style>\n",
       "<table border=\"1\" class=\"dataframe\">\n",
       "  <thead>\n",
       "    <tr style=\"text-align: right;\">\n",
       "      <th></th>\n",
       "      <th>Company_Brand</th>\n",
       "      <th>Founded</th>\n",
       "      <th>HeadQuarter</th>\n",
       "      <th>Sector</th>\n",
       "      <th>What_it_does</th>\n",
       "      <th>Founders</th>\n",
       "      <th>Investor</th>\n",
       "      <th>Amount</th>\n",
       "      <th>Stage</th>\n",
       "      <th>column10</th>\n",
       "    </tr>\n",
       "  </thead>\n",
       "  <tbody>\n",
       "    <tr>\n",
       "      <th>0</th>\n",
       "      <td>Aqgromalin</td>\n",
       "      <td>2019.0</td>\n",
       "      <td>Chennai</td>\n",
       "      <td>AgriTech</td>\n",
       "      <td>Cultivating Ideas for Profit</td>\n",
       "      <td>Prasanna Manogaran, Bharani C L</td>\n",
       "      <td>Angel investors</td>\n",
       "      <td>200000.0</td>\n",
       "      <td>NaN</td>\n",
       "      <td>NaN</td>\n",
       "    </tr>\n",
       "    <tr>\n",
       "      <th>1</th>\n",
       "      <td>Krayonnz</td>\n",
       "      <td>2019.0</td>\n",
       "      <td>Bangalore</td>\n",
       "      <td>EdTech</td>\n",
       "      <td>An academy-guardian-scholar centric ecosystem ...</td>\n",
       "      <td>Saurabh Dixit, Gurudutt Upadhyay</td>\n",
       "      <td>GSF Accelerator</td>\n",
       "      <td>100000.0</td>\n",
       "      <td>Pre-seed</td>\n",
       "      <td>NaN</td>\n",
       "    </tr>\n",
       "    <tr>\n",
       "      <th>2</th>\n",
       "      <td>PadCare Labs</td>\n",
       "      <td>2018.0</td>\n",
       "      <td>Pune</td>\n",
       "      <td>Hygiene management</td>\n",
       "      <td>Converting bio-hazardous waste to harmless waste</td>\n",
       "      <td>Ajinkya Dhariya</td>\n",
       "      <td>Venture Center</td>\n",
       "      <td>NaN</td>\n",
       "      <td>Pre-seed</td>\n",
       "      <td>NaN</td>\n",
       "    </tr>\n",
       "    <tr>\n",
       "      <th>3</th>\n",
       "      <td>NCOME</td>\n",
       "      <td>2020.0</td>\n",
       "      <td>New Delhi</td>\n",
       "      <td>Escrow</td>\n",
       "      <td>Escrow-as-a-service platform</td>\n",
       "      <td>Ritesh Tiwari</td>\n",
       "      <td>Venture Catalysts, PointOne Capital</td>\n",
       "      <td>400000.0</td>\n",
       "      <td>NaN</td>\n",
       "      <td>NaN</td>\n",
       "    </tr>\n",
       "    <tr>\n",
       "      <th>4</th>\n",
       "      <td>Gramophone</td>\n",
       "      <td>2016.0</td>\n",
       "      <td>Indore</td>\n",
       "      <td>AgriTech</td>\n",
       "      <td>Gramophone is an AgTech platform enabling acce...</td>\n",
       "      <td>Ashish Rajan Singh, Harshit Gupta, Nishant Mah...</td>\n",
       "      <td>Siana Capital Management, Info Edge</td>\n",
       "      <td>340000.0</td>\n",
       "      <td>NaN</td>\n",
       "      <td>NaN</td>\n",
       "    </tr>\n",
       "  </tbody>\n",
       "</table>\n",
       "</div>"
      ],
      "text/plain": [
       "  Company_Brand  Founded HeadQuarter              Sector  \\\n",
       "0    Aqgromalin   2019.0     Chennai            AgriTech   \n",
       "1      Krayonnz   2019.0   Bangalore              EdTech   \n",
       "2  PadCare Labs   2018.0        Pune  Hygiene management   \n",
       "3         NCOME   2020.0   New Delhi              Escrow   \n",
       "4    Gramophone   2016.0      Indore            AgriTech   \n",
       "\n",
       "                                        What_it_does  \\\n",
       "0                       Cultivating Ideas for Profit   \n",
       "1  An academy-guardian-scholar centric ecosystem ...   \n",
       "2   Converting bio-hazardous waste to harmless waste   \n",
       "3                       Escrow-as-a-service platform   \n",
       "4  Gramophone is an AgTech platform enabling acce...   \n",
       "\n",
       "                                            Founders  \\\n",
       "0                    Prasanna Manogaran, Bharani C L   \n",
       "1                   Saurabh Dixit, Gurudutt Upadhyay   \n",
       "2                                    Ajinkya Dhariya   \n",
       "3                                      Ritesh Tiwari   \n",
       "4  Ashish Rajan Singh, Harshit Gupta, Nishant Mah...   \n",
       "\n",
       "                              Investor    Amount     Stage column10  \n",
       "0                      Angel investors  200000.0       NaN      NaN  \n",
       "1                      GSF Accelerator  100000.0  Pre-seed      NaN  \n",
       "2                       Venture Center       NaN  Pre-seed      NaN  \n",
       "3  Venture Catalysts, PointOne Capital  400000.0       NaN      NaN  \n",
       "4  Siana Capital Management, Info Edge  340000.0       NaN      NaN  "
      ]
     },
     "execution_count": 3,
     "metadata": {},
     "output_type": "execute_result"
    }
   ],
   "source": [
    "df_2020.head()"
   ]
  },
  {
   "cell_type": "code",
   "execution_count": 4,
   "metadata": {},
   "outputs": [
    {
     "name": "stdout",
     "output_type": "stream",
     "text": [
      "<class 'pandas.core.frame.DataFrame'>\n",
      "RangeIndex: 1055 entries, 0 to 1054\n",
      "Data columns (total 10 columns):\n",
      " #   Column         Non-Null Count  Dtype  \n",
      "---  ------         --------------  -----  \n",
      " 0   Company_Brand  1055 non-null   object \n",
      " 1   Founded        842 non-null    float64\n",
      " 2   HeadQuarter    961 non-null    object \n",
      " 3   Sector         1042 non-null   object \n",
      " 4   What_it_does   1055 non-null   object \n",
      " 5   Founders       1043 non-null   object \n",
      " 6   Investor       1017 non-null   object \n",
      " 7   Amount         801 non-null    float64\n",
      " 8   Stage          591 non-null    object \n",
      " 9   column10       2 non-null      object \n",
      "dtypes: float64(2), object(8)\n",
      "memory usage: 82.5+ KB\n"
     ]
    }
   ],
   "source": [
    "df_2020.info()"
   ]
  },
  {
   "cell_type": "code",
   "execution_count": 5,
   "metadata": {},
   "outputs": [
    {
     "name": "stdout",
     "output_type": "stream",
     "text": [
      "<class 'pandas.core.frame.DataFrame'>\n",
      "RangeIndex: 1055 entries, 0 to 1054\n",
      "Data columns (total 9 columns):\n",
      " #   Column         Non-Null Count  Dtype  \n",
      "---  ------         --------------  -----  \n",
      " 0   Company_Brand  1055 non-null   object \n",
      " 1   Founded        842 non-null    float64\n",
      " 2   HeadQuarter    961 non-null    object \n",
      " 3   Sector         1042 non-null   object \n",
      " 4   What_it_does   1055 non-null   object \n",
      " 5   Founders       1043 non-null   object \n",
      " 6   Investor       1017 non-null   object \n",
      " 7   Amount         801 non-null    float64\n",
      " 8   Stage          591 non-null    object \n",
      "dtypes: float64(2), object(7)\n",
      "memory usage: 74.3+ KB\n"
     ]
    }
   ],
   "source": [
    "# drop 'column10' from the dataset\n",
    "df_2020=df_2020.drop('column10', axis=1)\n",
    "df_2020.info()"
   ]
  },
  {
   "cell_type": "code",
   "execution_count": 6,
   "metadata": {},
   "outputs": [
    {
     "data": {
      "text/plain": [
       "count     842.000000\n",
       "mean     2015.363420\n",
       "std         4.097909\n",
       "min      1973.000000\n",
       "25%      2014.000000\n",
       "50%      2016.000000\n",
       "75%      2018.000000\n",
       "max      2020.000000\n",
       "Name: Founded, dtype: float64"
      ]
     },
     "execution_count": 6,
     "metadata": {},
     "output_type": "execute_result"
    }
   ],
   "source": [
    "df_2020['Founded'].describe()"
   ]
  },
  {
   "cell_type": "code",
   "execution_count": 7,
   "metadata": {},
   "outputs": [
    {
     "data": {
      "text/plain": [
       "Company_Brand      0\n",
       "Founded            0\n",
       "HeadQuarter       94\n",
       "Sector            13\n",
       "What_it_does       0\n",
       "Founders          12\n",
       "Investor          38\n",
       "Amount           254\n",
       "Stage            464\n",
       "dtype: int64"
      ]
     },
     "execution_count": 7,
     "metadata": {},
     "output_type": "execute_result"
    }
   ],
   "source": [
    "# from the statistics above, we use the median to fill missing data\n",
    "#check if missing data is filled\n",
    "\n",
    "median_value=df_2020['Founded'].median()\n",
    "df_2020['Founded'].fillna(median_value, inplace=True)\n",
    "df_2020.isnull().sum()"
   ]
  },
  {
   "cell_type": "code",
   "execution_count": 8,
   "metadata": {},
   "outputs": [
    {
     "name": "stdout",
     "output_type": "stream",
     "text": [
      "int32\n"
     ]
    }
   ],
   "source": [
    "# convert 'Founded' data type from float to integer\n",
    "#check to confirm data type\n",
    "\n",
    "df_2020['Founded']=df_2020['Founded'].astype(int)\n",
    "\n",
    "column_dtype=df_2020['Founded'].dtype\n",
    "print(column_dtype)"
   ]
  },
  {
   "cell_type": "code",
   "execution_count": 9,
   "metadata": {},
   "outputs": [
    {
     "name": "stdout",
     "output_type": "stream",
     "text": [
      "<class 'pandas.core.frame.DataFrame'>\n",
      "RangeIndex: 1055 entries, 0 to 1054\n",
      "Data columns (total 9 columns):\n",
      " #   Column         Non-Null Count  Dtype  \n",
      "---  ------         --------------  -----  \n",
      " 0   Company_Brand  1055 non-null   object \n",
      " 1   Founded        1055 non-null   int32  \n",
      " 2   HeadQuarter    961 non-null    object \n",
      " 3   Sector         1042 non-null   object \n",
      " 4   What_it_does   1055 non-null   object \n",
      " 5   Founders       1043 non-null   object \n",
      " 6   Investor       1017 non-null   object \n",
      " 7   Amount         801 non-null    float64\n",
      " 8   Stage          591 non-null    object \n",
      "dtypes: float64(1), int32(1), object(7)\n",
      "memory usage: 70.2+ KB\n"
     ]
    }
   ],
   "source": [
    "df_2020.info()"
   ]
  },
  {
   "cell_type": "code",
   "execution_count": 10,
   "metadata": {},
   "outputs": [
    {
     "data": {
      "text/plain": [
       "Index(['Company_Brand', 'Founded', 'HeadQuarter', 'Sector', 'What_it_does',\n",
       "       'Founders', 'Investor', 'Amount', 'Stage'],\n",
       "      dtype='object')"
      ]
     },
     "execution_count": 10,
     "metadata": {},
     "output_type": "execute_result"
    }
   ],
   "source": [
    "# check column names\n",
    "\n",
    "df_2020.columns"
   ]
  },
  {
   "cell_type": "code",
   "execution_count": 11,
   "metadata": {},
   "outputs": [
    {
     "data": {
      "text/plain": [
       "Index(['Company/Brand', 'Founded', 'HeadQuarter', 'Sector', 'What_it_does',\n",
       "       'Founders', 'Investor', 'Amount($)', 'Stage'],\n",
       "      dtype='object')"
      ]
     },
     "execution_count": 11,
     "metadata": {},
     "output_type": "execute_result"
    }
   ],
   "source": [
    "# rename 'Company_Brand' to 'Company/Brand' and 'Amount' to 'Amount($)'\n",
    "\n",
    "df_2020.rename(columns={'Company_Brand':'Company/Brand'}, inplace=True)\n",
    "df_2020.rename(columns={'Amount':'Amount($)'}, inplace=True)\n",
    "\n",
    "df_2020.columns"
   ]
  },
  {
   "cell_type": "code",
   "execution_count": 12,
   "metadata": {},
   "outputs": [
    {
     "data": {
      "text/plain": [
       "array([2019, 2018, 2020, 2016, 2008, 2015, 2017, 2014, 1998, 2007, 2011,\n",
       "       1982, 2013, 2009, 2012, 1995, 2010, 2006, 1978, 1999, 1994, 2005,\n",
       "       1973, 2002, 2004, 2001])"
      ]
     },
     "execution_count": 12,
     "metadata": {},
     "output_type": "execute_result"
    }
   ],
   "source": [
    "#check unique characters in 'Founded'\n",
    "df_2020['Founded'].unique()"
   ]
  },
  {
   "cell_type": "code",
   "execution_count": 13,
   "metadata": {},
   "outputs": [
    {
     "data": {
      "text/plain": [
       "array(['Chennai', 'Bangalore', 'Pune', 'New Delhi', 'Indore', 'Hyderabad',\n",
       "       'Gurgaon', 'Belgaum', 'Noida', 'Mumbai', 'Andheri', 'Jaipur',\n",
       "       'Ahmedabad', 'Kolkata', 'Tirunelveli, Tamilnadu', 'Thane', nan,\n",
       "       'Singapore', 'Gurugram', 'Gujarat', 'Haryana', 'Kerala', 'Jodhpur',\n",
       "       'Jaipur, Rajastan', 'Delhi', 'Frisco, Texas, United States',\n",
       "       'California', 'Dhingsara, Haryana', 'New York, United States',\n",
       "       'Patna', 'San Francisco, California, United States',\n",
       "       'San Francisco, United States', 'San Ramon, California',\n",
       "       'Paris, Ile-de-France, France', 'Plano, Texas, United States',\n",
       "       'Sydney', 'San Francisco Bay Area, Silicon Valley, West Coast',\n",
       "       'Bangaldesh', 'London, England, United Kingdom',\n",
       "       'Sydney, New South Wales, Australia', 'Milano, Lombardia, Italy',\n",
       "       'Palmwoods, Queensland, Australia', 'France',\n",
       "       'San Francisco Bay Area, West Coast, Western US',\n",
       "       'Trivandrum, Kerala, India', 'Cochin', 'Samastipur, Bihar',\n",
       "       'Irvine, California, United States', 'Tumkur, Karnataka',\n",
       "       'Newcastle Upon Tyne, Newcastle upon Tyne, United Kingdom',\n",
       "       'Shanghai, China', 'Jiaxing, Zhejiang, China', 'Rajastan', 'Kochi',\n",
       "       'Ludhiana', 'Dehradun', 'San Franciscao', 'San Francisco',\n",
       "       'Tangerang, Jawa Barat, Indonesia', 'Berlin', 'Seattle', 'Riyadh',\n",
       "       'Seoul', 'New York', 'Bangkok', 'Kanpur', 'Chandigarh', 'Warangal',\n",
       "       'Hyderebad', 'Odisha', 'Bihar', 'Goa', 'Tamil Nadu',\n",
       "       'Uttar Pradesh', 'Bhopal', 'Banglore', 'Coimbatore', 'Bengaluru'],\n",
       "      dtype=object)"
      ]
     },
     "execution_count": 13,
     "metadata": {},
     "output_type": "execute_result"
    }
   ],
   "source": [
    "#check unique characters in 'HeadQuarter'\n",
    "\n",
    "df_2020['HeadQuarter'].unique()"
   ]
  },
  {
   "cell_type": "code",
   "execution_count": 14,
   "metadata": {},
   "outputs": [
    {
     "data": {
      "text/plain": [
       "77"
      ]
     },
     "execution_count": 14,
     "metadata": {},
     "output_type": "execute_result"
    }
   ],
   "source": [
    "#count number of unique characters\n",
    "\n",
    "unique_chars_count=df_2020['HeadQuarter'].nunique()\n",
    "unique_chars_count"
   ]
  },
  {
   "cell_type": "code",
   "execution_count": 15,
   "metadata": {},
   "outputs": [],
   "source": [
    "#Address inconsistencies in HeadQuarter column such as spelling mistakes etc\n",
    "#maintain first word before comma in the HeadQuarter column since there are strings with this format 'city, state, country'\n",
    "df_2020[\"HeadQuarter\"]=df_2020['HeadQuarter'].apply(str)\n",
    "df_2020['HeadQuarter']=df_2020['HeadQuarter'].str.split(',').str[0]\n",
    "df_2020['HeadQuarter']=df_2020['HeadQuarter'].replace(\"'\",\"\",regex=True)"
   ]
  },
  {
   "cell_type": "code",
   "execution_count": 16,
   "metadata": {},
   "outputs": [
    {
     "data": {
      "text/plain": [
       "array(['Chennai', 'Bangalore', 'Pune', 'New Delhi', 'Indore', 'Hyderabad',\n",
       "       'Gurgaon', 'Belgaum', 'Noida', 'Mumbai', 'Andheri', 'Jaipur',\n",
       "       'Ahmedabad', 'Kolkata', 'Tirunelveli', 'Thane', 'nan', 'Singapore',\n",
       "       'Gurugram', 'Gujarat', 'Haryana', 'Kerala', 'Jodhpur', 'Delhi',\n",
       "       'Frisco', 'California', 'Dhingsara', 'New York', 'Patna',\n",
       "       'San Francisco', 'San Ramon', 'Paris', 'Plano', 'Sydney',\n",
       "       'San Francisco Bay Area', 'Bangaldesh', 'London', 'Milano',\n",
       "       'Palmwoods', 'France', 'Trivandrum', 'Cochin', 'Samastipur',\n",
       "       'Irvine', 'Tumkur', 'Newcastle Upon Tyne', 'Shanghai', 'Jiaxing',\n",
       "       'Rajastan', 'Kochi', 'Ludhiana', 'Dehradun', 'San Franciscao',\n",
       "       'Tangerang', 'Berlin', 'Seattle', 'Riyadh', 'Seoul', 'Bangkok',\n",
       "       'Kanpur', 'Chandigarh', 'Warangal', 'Hyderebad', 'Odisha', 'Bihar',\n",
       "       'Goa', 'Tamil Nadu', 'Uttar Pradesh', 'Bhopal', 'Banglore',\n",
       "       'Coimbatore', 'Bengaluru'], dtype=object)"
      ]
     },
     "execution_count": 16,
     "metadata": {},
     "output_type": "execute_result"
    }
   ],
   "source": [
    "#check if above code worked\n",
    "df_2020['HeadQuarter'].unique()"
   ]
  },
  {
   "cell_type": "code",
   "execution_count": 17,
   "metadata": {},
   "outputs": [
    {
     "data": {
      "text/plain": [
       "array(['Chennai', 'Bangalore', 'Pune', 'New Delhi', 'Indore', 'Hyderabad',\n",
       "       'Gurgaon', 'Belgaum', 'Noida', 'Mumbai', 'Andheri', 'Jaipur',\n",
       "       'Ahmedabad', 'Kolkata', 'Tirunelveli', 'Thane', 'nan', 'Singapore',\n",
       "       'Gurugram', 'Gujarat', 'Haryana', 'Kerala', 'Jodhpur', 'Delhi',\n",
       "       'Frisco', 'California', 'Dhingsara', 'New York', 'Patna',\n",
       "       'San Francisco', 'San Ramon', 'Paris', 'Plano', 'Sydney',\n",
       "       'Bangaldesh', 'London', 'Milano', 'Palmwoods', 'France',\n",
       "       'Trivandrum', 'Cochin', 'Samastipur', 'Irvine', 'Tumkur',\n",
       "       'Newcastle', 'Shanghai', 'Jiaxing', 'Rajastan', 'Kochi',\n",
       "       'Ludhiana', 'Dehradun', 'Tangerang', 'Berlin', 'Seattle', 'Riyadh',\n",
       "       'Seoul', 'Bangkok', 'Kanpur', 'Chandigarh', 'Warangal',\n",
       "       'Hyderebad', 'Odisha', 'Bihar', 'Goa', 'Tamil Nadu',\n",
       "       'Uttar Pradesh', 'Bhopal', 'Coimbatore'], dtype=object)"
      ]
     },
     "execution_count": 17,
     "metadata": {},
     "output_type": "execute_result"
    }
   ],
   "source": [
    "#rename similar cities and country names\n",
    "#replace specific values in column 'HeadQuarter'\n",
    "\n",
    "df_2020['HeadQuarter']=df_2020['HeadQuarter'].replace({'Bengaluru':'Bangalore', 'San Francisco Bay Area':'San Francisco','Banglore':'Bangalore','San Franciscao':'San Francisco','Newcastle Upon Tyne':'Newcastle'})\n",
    "df_2020['HeadQuarter'].unique()"
   ]
  },
  {
   "cell_type": "code",
   "execution_count": 18,
   "metadata": {},
   "outputs": [
    {
     "data": {
      "text/plain": [
       "array(['Chennai', 'Bangalore', 'Pune', 'New Delhi', 'Indore', 'Hyderabad',\n",
       "       'Gurgaon', 'Belgaum', 'Noida', 'Mumbai', 'Andheri', 'Jaipur',\n",
       "       'Ahmedabad', 'Kolkata', 'Tirunelveli', 'Thane', 'Singapore',\n",
       "       'Gurugram', 'Gujarat', 'Haryana', 'Kerala', 'Jodhpur', 'Delhi',\n",
       "       'Frisco', 'California', 'Dhingsara', 'New York', 'Patna',\n",
       "       'San Francisco', 'San Ramon', 'Paris', 'Plano', 'Sydney',\n",
       "       'Bangaldesh', 'London', 'Milano', 'Palmwoods', 'France',\n",
       "       'Trivandrum', 'Cochin', 'Samastipur', 'Irvine', 'Tumkur',\n",
       "       'Newcastle', 'Shanghai', 'Jiaxing', 'Rajastan', 'Kochi',\n",
       "       'Ludhiana', 'Dehradun', 'Tangerang', 'Berlin', 'Seattle', 'Riyadh',\n",
       "       'Seoul', 'Bangkok', 'Kanpur', 'Chandigarh', 'Warangal',\n",
       "       'Hyderebad', 'Odisha', 'Bihar', 'Goa', 'Tamil Nadu',\n",
       "       'Uttar Pradesh', 'Bhopal', 'Coimbatore'], dtype=object)"
      ]
     },
     "execution_count": 18,
     "metadata": {},
     "output_type": "execute_result"
    }
   ],
   "source": [
    "#check the mode of column 'HeadQuarter'\n",
    "#replace 'nan' with mode (Bangalore)\n",
    "#confirm with .unique()\n",
    "\n",
    "mode_HeadQuarter=df_2020['HeadQuarter'].mode()[0]\n",
    "df_2020['HeadQuarter']=df_2020['HeadQuarter'].replace({'nan':'Bangalore'})\n",
    "df_2020['HeadQuarter'].unique()"
   ]
  },
  {
   "cell_type": "code",
   "execution_count": 19,
   "metadata": {},
   "outputs": [
    {
     "data": {
      "text/plain": [
       "67"
      ]
     },
     "execution_count": 19,
     "metadata": {},
     "output_type": "execute_result"
    }
   ],
   "source": [
    "#check number of unique city names\n",
    "unique_chars_count=df_2020['HeadQuarter'].nunique()\n",
    "unique_chars_count"
   ]
  },
  {
   "cell_type": "code",
   "execution_count": 20,
   "metadata": {},
   "outputs": [
    {
     "name": "stdout",
     "output_type": "stream",
     "text": [
      "<class 'pandas.core.frame.DataFrame'>\n",
      "RangeIndex: 1055 entries, 0 to 1054\n",
      "Data columns (total 9 columns):\n",
      " #   Column         Non-Null Count  Dtype  \n",
      "---  ------         --------------  -----  \n",
      " 0   Company/Brand  1055 non-null   object \n",
      " 1   Founded        1055 non-null   int32  \n",
      " 2   HeadQuarter    1055 non-null   object \n",
      " 3   Sector         1042 non-null   object \n",
      " 4   What_it_does   1055 non-null   object \n",
      " 5   Founders       1043 non-null   object \n",
      " 6   Investor       1017 non-null   object \n",
      " 7   Amount($)      801 non-null    float64\n",
      " 8   Stage          591 non-null    object \n",
      "dtypes: float64(1), int32(1), object(7)\n",
      "memory usage: 70.2+ KB\n"
     ]
    }
   ],
   "source": [
    "df_2020.info()"
   ]
  },
  {
   "cell_type": "markdown",
   "metadata": {},
   "source": [
    "## Clean 'Stage'column"
   ]
  },
  {
   "cell_type": "code",
   "execution_count": 21,
   "metadata": {},
   "outputs": [
    {
     "data": {
      "text/plain": [
       "0         NaN\n",
       "1    Pre-seed\n",
       "2    Pre-seed\n",
       "3         NaN\n",
       "4         NaN\n",
       "Name: Stage, dtype: object"
      ]
     },
     "execution_count": 21,
     "metadata": {},
     "output_type": "execute_result"
    }
   ],
   "source": [
    "df_2020['Stage'].head()"
   ]
  },
  {
   "cell_type": "code",
   "execution_count": 22,
   "metadata": {},
   "outputs": [
    {
     "data": {
      "text/plain": [
       "0     unknown\n",
       "1    Pre-seed\n",
       "2    Pre-seed\n",
       "3     unknown\n",
       "4     unknown\n",
       "Name: Stage, dtype: object"
      ]
     },
     "execution_count": 22,
     "metadata": {},
     "output_type": "execute_result"
    }
   ],
   "source": [
    "#Fill empty data in 'Stage' with 'unknown'\n",
    "\n",
    "df_2020['Stage'].fillna('unknown', inplace=True)\n",
    "df_2020['Stage'].isnull().sum()\n",
    "df_2020['Stage'].head()"
   ]
  },
  {
   "cell_type": "code",
   "execution_count": 23,
   "metadata": {},
   "outputs": [
    {
     "data": {
      "text/plain": [
       "array(['unknown', 'Pre-seed', 'Seed', 'Pre-series A', 'Pre-series',\n",
       "       'Series C', 'Series A', 'Series B', 'Debt', 'Pre-series C',\n",
       "       'Pre-series B', 'Series E', 'Bridge', 'Series D', 'Series B2',\n",
       "       'Series F', 'Pre- series A', 'Edge', 'Series H', 'Pre-Series B',\n",
       "       'Seed A', 'Series A-1', 'Seed Funding', 'Pre-Seed', 'Seed round',\n",
       "       'Pre-seed Round', 'Seed Round & Series A', 'Pre Series A',\n",
       "       'Pre seed Round', 'Angel Round', 'Pre series A1', 'Series E2',\n",
       "       'Pre series A', 'Seed Round', 'Bridge Round', 'Pre seed round',\n",
       "       'Pre series B', 'Pre series C', 'Seed Investment', 'Series D1',\n",
       "       'Mid series', 'Series C, D', 'Seed funding'], dtype=object)"
      ]
     },
     "execution_count": 23,
     "metadata": {},
     "output_type": "execute_result"
    }
   ],
   "source": [
    "df_2020['Stage'].unique()"
   ]
  },
  {
   "cell_type": "code",
   "execution_count": 24,
   "metadata": {},
   "outputs": [
    {
     "data": {
      "text/plain": [
       "array(['Unknown Stage', 'Pre-Seed', 'Seed', 'Pre-Series', 'Series C',\n",
       "       'Series A', 'Series B', 'Debt Financing', 'Later Stage', 'Angel'],\n",
       "      dtype=object)"
      ]
     },
     "execution_count": 24,
     "metadata": {},
     "output_type": "execute_result"
    }
   ],
   "source": [
    "#Define a function for recategorization\n",
    "def recategorize(stage):\n",
    "    if stage in ['Angel Round','Pre seed Round','Pre-seed Round','Pre seed round']:\n",
    "        return 'Angel'\n",
    "    elif stage in ['Seed','Seed funding','Seed Investment','Seed Round','Seed Round & Series A','Seed round','Seed Funding','Seed A']:\n",
    "        return 'Seed'\n",
    "    elif stage in ['Pre-seed','Pre-Seed','Pre series A1','Pre series A']:\n",
    "        return 'Pre-Seed'\n",
    "    elif stage in ['Pre-series A','Pre-series','Bridge','Pre Series A','Bridge Round','Pre- series A']:\n",
    "        return 'Pre-Series'\n",
    "    elif stage in ['Series A','Pre-series B','Pre-Series B','Series A-1','Pre series B']:\n",
    "        return 'Series A'\n",
    "    elif stage in ['Series B','Pre-series C','Series B2','Pre series C','Mid series']:\n",
    "        return 'Series B'\n",
    "    elif stage in ['Series E','Series D','Series F','Edge','Series H','Series E2','Series D1','Series C, D']:\n",
    "        return 'Later Stage'\n",
    "    elif stage in ['Debt']:\n",
    "        return 'Debt Financing'\n",
    "    elif stage in ['unknown']:\n",
    "        return 'Unknown Stage'\n",
    "    else:\n",
    "        return stage\n",
    "    \n",
    "df_2020['Stage'] = df_2020['Stage'].apply(recategorize)\n",
    "\n",
    "df_2020['Stage'].unique()"
   ]
  },
  {
   "cell_type": "code",
   "execution_count": 25,
   "metadata": {},
   "outputs": [
    {
     "data": {
      "text/plain": [
       "10"
      ]
     },
     "execution_count": 25,
     "metadata": {},
     "output_type": "execute_result"
    }
   ],
   "source": [
    "df_2020['Stage'].nunique()"
   ]
  },
  {
   "cell_type": "code",
   "execution_count": 26,
   "metadata": {},
   "outputs": [
    {
     "data": {
      "text/plain": [
       "array(['Unknown Stage', 'Pre-Seed', 'Seed', 'Pre-Series', 'Series C',\n",
       "       'Series A', 'Series B', 'Debt Financing', 'Later Stage', 'Angel'],\n",
       "      dtype=object)"
      ]
     },
     "execution_count": 26,
     "metadata": {},
     "output_type": "execute_result"
    }
   ],
   "source": [
    "df_2020['Stage'].unique()"
   ]
  },
  {
   "cell_type": "markdown",
   "metadata": {},
   "source": [
    "## Clean 'Founders' column"
   ]
  },
  {
   "cell_type": "code",
   "execution_count": 27,
   "metadata": {},
   "outputs": [
    {
     "data": {
      "text/plain": [
       "0"
      ]
     },
     "execution_count": 27,
     "metadata": {},
     "output_type": "execute_result"
    }
   ],
   "source": [
    "#Fill missing data in 'Founders' column with 'unknown'\n",
    "df_2020['Founders'].fillna('unknown', inplace=True)\n",
    "df_2020['Founders'].isnull().sum()"
   ]
  },
  {
   "cell_type": "code",
   "execution_count": 28,
   "metadata": {},
   "outputs": [
    {
     "data": {
      "text/plain": [
       "array(['Prasanna Manogaran, Bharani C L',\n",
       "       'Saurabh Dixit, Gurudutt Upadhyay', 'Ajinkya Dhariya',\n",
       "       'Ritesh Tiwari',\n",
       "       'Ashish Rajan Singh, Harshit Gupta, Nishant Mahatre, Tauseef Khan',\n",
       "       'Rubal Chib, Dr Srishti Batra', 'Ajay Sakhamuri',\n",
       "       'Shawrya Mehrotra', 'Amar Prabhu, Ashwin Soni, Sumit Maniyar',\n",
       "       'Aditya Shirole, Sahil Sharma', 'Meghana Narayan',\n",
       "       'Arjun Kumar, Arun Kumar, Sidharth Gurjar', 'Gayatri Jolly',\n",
       "       'Ankur Jain', 'Akil Sethuraman, Anup Gopinath, Rachna Rao',\n",
       "       'Deepinder Goyal, Gaurav Gupta, Pankaj Chaddah',\n",
       "       'Miran Junaidi, Saurabh Ghanekar, Sourav Sanyal',\n",
       "       'Gautam Kapoor, Saahil Goel, Vishesh Khurana', 'Amrish Rau',\n",
       "       'Prashant Agarwal', 'Parth Chadha, Rahul Singh',\n",
       "       'Vikrant Varshney', 'Sujit Bangar',\n",
       "       'Annanya Sarthak, Gurpreet Singh, Praveen Sah', 'Karanpal Singh',\n",
       "       'Neeraj Khandelwal, Sumit Gupta', 'Naveen Tewari',\n",
       "       'Virendra Gupta', 'Priyam Saraswat',\n",
       "       'Kapil Bharati, Mohit Tandon, Sahil Barua, Suraj Saharan',\n",
       "       'Chattanathan Devarajan, Prasanna Rao, Anand Chandra',\n",
       "       'Ankit Kaushik, Gaurav Mangla, Rhitiman Majumder',\n",
       "       'Burzin Engineer, Rahul Chari, Sameer Nigam', 'Nirmal Shah',\n",
       "       'Chetan Indap, Sunny Sharma, Deepanti Kavi', 'Suhail Narain',\n",
       "       'Ronak Sarda', 'Vinayak, Kshitij Abhishek, Apoorv Sadana',\n",
       "       'Ankit Garg, Chaitanya Ramalingegowda', 'Dr Prashant Soma',\n",
       "       'Tikam Jain', 'Sundeep Mohindru', 'Shivakumar Ganesan',\n",
       "       'Adarsh Kumar, Rupesh Mishra', 'Mihir Jha', 'Shivanand N',\n",
       "       'Anand Dalmia, Ramganesh Iyer, Subramanya S.V., Subramanya Venkat',\n",
       "       'Anoop Gautam', 'Raunak Bhinge', 'Ajay Tiwari, Sainadh Duvvuru',\n",
       "       'Mayank Kale, Ryan Singh',\n",
       "       'Anurag Meena, Nikunj Malpani, Pratik Lodha',\n",
       "       'Satya Chakravarthy, Pranjal Mehta',\n",
       "       'Divyanshu Damani, Mohammad Hasan',\n",
       "       'Charak Almast, Aastha Almast, Mani Dev Gyawali',\n",
       "       'Bipin Singh, Upasana Taku', 'Sumit Sanjay Singare',\n",
       "       'Monnappa Bayavanda, Prashant Reddy, Ravindra M.K, Ravindra M.K., Shesh Paplikar, Shesh Paplikar, Sridhar Venkataraman',\n",
       "       'Deepak Garg, Gazal Kalra', 'KSHITIJ Puri, Shalabh Singhal',\n",
       "       'Vivek Iyer', 'Manjunatha T N, Shilpa Gopalaiah', 'Layak Singh',\n",
       "       'Puneet Singh Jaggi, Sanjay Bhasin, Ram Menon', 'Nandini Sankar',\n",
       "       'Tanmai Paul, Varun Saxena',\n",
       "       'Abhas Saroha, Oliver Jones, Oliver Jones', 'Shan Kadavil',\n",
       "       'Shivam Varshney, Alok Chawla', 'Manoj Meena, Sibabrata Das',\n",
       "       'Sankar Bora, Sourjyendu Medda, Vineet Rao',\n",
       "       'Anugrah Shrivastava, Rohan Gupta, Vasanth Kamath', 'Manan Khurma',\n",
       "       'Soham Thacker, Valay Patel, Varun Gajjar', 'Kalyan Sivasailam',\n",
       "       'Harsh Rajat, Richa Joshi',\n",
       "       'Biplab Chakraborty, Sandipan Chattopadhyay, Sandipan Mandal, Tapan Barman',\n",
       "       'Palani Rajan', 'Karthik Jayaraman, Sanjay Dasari',\n",
       "       'Aaditya Sharda, Souvik Sengupta', 'Sanjeev Bikhchandani',\n",
       "       'Neha Kant, Pankaj Vermani', 'Satyam Baranwal, Vivek Prakash',\n",
       "       'Kunal Shah', 'Brahmanad, Ramakrishna Nishtala',\n",
       "       'Nitesh Agrawal, Om Prakash', 'Rohit Pande, Shikhar Sachan',\n",
       "       'Prabhat Sahu', 'Ankit Ratan, Ankur Pandey, Arpit Ratan',\n",
       "       'Amit Shrivastava, Sumeet Verma', 'Bhavik Rathod, Tripti Ahuja',\n",
       "       'Vikas Chawla, Abhay Parnerkar, Satyajit Ram', 'Rahul Veerwal',\n",
       "       'Sai Srinivas Kiran G, Shubham Malhotra', 'Sonu Sood',\n",
       "       'NAVEED AHAMED, SYED SAQQA ABBAS', 'Darshan Shah, Soniya Kundnani',\n",
       "       'Akash Sinha, Reeju Datta',\n",
       "       'Anand Agrawal, Mayank Khera, Rishabh Goel',\n",
       "       'Devashish Fuloria, Tusheet Shrivastava, Ankita Thakur',\n",
       "       'Chakradhar Gade, Nitin Kaushal', 'Chirdeep Shetty',\n",
       "       'Mehul Agrawal, Ruchit Agarwal, Vikram Chopra', 'unknown',\n",
       "       'Divij Bajaj',\n",
       "       'Advaith Vishwanath, Ankit Agrawal, Jerin Venad, Rushabh Shah, Sankalp Kelshikar, Subhash Sundaravadivelu',\n",
       "       'Pushpak Dagade, Jimmit Patel and Suraj Bathija', 'Rajith Nair',\n",
       "       'Amit, Rohit Sadhu, and Vikas Ranga',\n",
       "       'Dhruv Agrawal, Himanshu Gupta, Soham Chokshi', 'Rushabh Mehta',\n",
       "       'Rohin Y, PV Ramana', 'Nikhil Aggarwal, Vivek Gulati',\n",
       "       'Gaurav Munjal, Hemesh Singh, Roman Saini, Sachin Gupta',\n",
       "       'Arpit Mittal, Anshul Gupta', 'Abhishek Poddar, Saurabh Arora',\n",
       "       'Shashank Vaishnav, Vinay Singhal, Parveen Singhal',\n",
       "       'Falguni Nayar', 'Snehanshu Gandhi, Gaurav Shrishrimal',\n",
       "       'Rohit Sen, Nupur Gupta', 'Aditya Sharma, Jayesh Hans',\n",
       "       'Byju Raveendran, Divya Gokulnath', 'Anurag Saboo, Gaurav Pushkar',\n",
       "       'Govind Balachandran, Zakir Wahab, Piyush Arora',\n",
       "       'Gowtham Sundaresan, Azan Barodawala', 'Nikhil Bohra',\n",
       "       'Sharmin Ali, Sutanshu Raj', 'Yogesh, Mitesh Gangar',\n",
       "       'Aditya Sengupta, Akash Gehani, Harshad Sharma, Sampad Swain',\n",
       "       'Anand Prabhudesai, Dhirendra Mahyavanshi, Kunal Shah',\n",
       "       'Dhruv Madhok, Dhruv Bhasin', 'Cheolwon Lee, Jay Yi, Martin Lee',\n",
       "       'Dhruv Dewan, Krishi Fagwani', 'Lakshay Jain', 'Nived Narayanan',\n",
       "       'Sandeep Patel', 'Tanmaya Jain', 'Ashwin Lal',\n",
       "       'Khushnud Khan, Rishi Raj Rathore',\n",
       "       'Deepak Diwakar, Krishna Depura, Mohit Garg, Nishant Mungali',\n",
       "       'Deepak Malhotra, Rajan Bajaj',\n",
       "       'Kashif Mohammad, Aravind Maddireddy', 'Ashish Rawat',\n",
       "       'Shrishti, Prithika', 'Ishpreet Gandhi', 'Ankur Bansal',\n",
       "       'Kiran Mazumdar-Shaw',\n",
       "       'Abhishek Doshi, Anupama Panchal, Shashwat Bhatt, Yash Shah',\n",
       "       'Amitava Saha, Supam Maheshwari', 'Amit Kumar, Gunjeet Singh',\n",
       "       'Ashraf Biran, Gulshan Bakhtiani, Mohan Chavan',\n",
       "       'Param Singh, Aashna Singh, Abhijeet Mittal, Jitesh Arora',\n",
       "       'Gunjan Kejriwal, Utsav Tiwary',\n",
       "       'Vinamra Pandiya, Mayank Gupta, Joji George',\n",
       "       'Pallav Pandey, Ankur Pandey, Siddharth Singh', 'Anup Kumar',\n",
       "       'Punweet Singh, Shuchir Suri', 'Sujay Santra',\n",
       "       'Mikhil Raj, Shubhadit Sharma, Ishaan Preet Singh',\n",
       "       'Mukesh Ambani', 'Saurabh Uttam, Ravi Singhal',\n",
       "       'Arun Vinayak, Swapnil Jain, Tarun Mehta',\n",
       "       'Sriram Kannan, Surajit Das', 'Rakesh Malhotra', 'Anjana Reddy',\n",
       "       'Vivek Bhutyani',\n",
       "       'Abhishek Negi, Aditya Singh, Pankaj Pandey, Uttam Kumar',\n",
       "       'Gireesh Rajendran, Ashish Lachhwani, Apu Sivadas, Rakesh Kumar and Alok Joshi',\n",
       "       'Kartikey Hariyani, Pavan Bakeri', 'Kavish Gadia, Nikhil Saraf',\n",
       "       'David Stavens, Mike Sokolsky, Sebastian Thrun',\n",
       "       'Abhijit Patil, Abhishek Tomar, Pankaj Raut',\n",
       "       'Ajay Nain, Prateek Chaturvedi', 'Abhishek Kabra, Aman Gour',\n",
       "       'Altaf Saiyed, Saloni Anand',\n",
       "       'Anurag Mehrotra, Krishnakant Thakur, Mohammed Bhol, Gautam Singh',\n",
       "       'Shivank Agarwal, Anish Khandelwal', 'Sahil Jatana',\n",
       "       'Ajay Kumar, Murari Singh', 'Jatin Solanki',\n",
       "       'Adit Jain, Anand Prajapati, Mayank Goyal',\n",
       "       'HS Srinivasan, Krishnan Rajan, E.V. Shunmugam',\n",
       "       'Saurabh Gupta, Siddharth Swarnkar',\n",
       "       'Arun Mallavarapu, Prasanth Madavana',\n",
       "       'Adarsh Manpuria, Vaibhav Aggarwal', 'Chandrakanta, Rajendra Lora',\n",
       "       'Abhishek Kothari, Deepak Jain, Manish Lunia, Ritesh Jain',\n",
       "       'Nilay Pandey, Saurav Singh, Vivek Kumar',\n",
       "       'Siddharth Dialani, Sai Gole', 'Nirav Choksi',\n",
       "       'Rohan Dedhia, Vaibhav Saraf, Hrishabh Sanghvi',\n",
       "       'Mohit Sahney, Sunita Sahney',\n",
       "       'Mihir, Payoj Jain, Divyansh Bordia, Anshuman Kumar',\n",
       "       'Sachin Chhabra, Nidhi Ramachandran', 'Nilay Mehrotra',\n",
       "       'Aneesh Mathur', 'Aanan Khurma, Aditya Seth, Ripunjay Chachan',\n",
       "       'Ashish Jhina, Karthik Venkateswaran',\n",
       "       'Paavan Nanda, Saumya Singh Rathore',\n",
       "       'Tarun Sharma, Vikas Lachhwani', 'Rohan Nayak',\n",
       "       'Sagar Bhalotia, Anish Basu Roy', 'Advitiya Sharma, Gaurav Lahoti',\n",
       "       'Sunoor Kaul,',\n",
       "       'Amit Srivastava, Bhavik Vasa, Sachin Tagra, Sachin Tagra',\n",
       "       'Saurabh Tandan, Pravin Agarwala', 'Talha Shaikh',\n",
       "       'Harsh Vakharia, Pankit Chheda, Sanket Shah',\n",
       "       'Mayank Agarwal, Vaibhav Jain', 'Atul Monga', 'Meena Sankaran',\n",
       "       'Kasuhik Mukherjee, Vineeta Singh', 'Gomathi S, Dr Balaji Sampath',\n",
       "       'Guru Sankararaman, Jay Vijayan', 'David guerin',\n",
       "       'Amit mandahar, Chaitali roy', 'Anjan Panneer Selvam',\n",
       "       'Narayan Subramaniam, Niraj Rajmohan',\n",
       "       'Akshay Saini, Rahul Saini, Pranav Chabhadia',\n",
       "       'Ranodeep Saha, Vijay Kumar', 'Charles Creighton', 'Siraj Dhanani',\n",
       "       'Chris Sampson, Marcel Herz, Martin Karafilis',\n",
       "       'Deepak Anchala, Rahul Bhattacharya, Ranjana TN', 'Manish Kaul',\n",
       "       'Priya Goel Sheth, Harsh Jain',\n",
       "       'Abhishek Verma, Harshit Mittal, Kumar Kushang, Nitin Prakash',\n",
       "       'Pankaj Sharma',\n",
       "       'Afeef Zaman, Ataur Rahim Chowdhury, Siffat Sarwar',\n",
       "       'M R Srinivas', 'Subhash Choudhary, Suumit Shah',\n",
       "       'Nikhil Jain, Nittin Mittal, Sumit Chhazed',\n",
       "       'Sat Tomer, Yukti Gill', 'Arun Sreyas, Gautham Maheswaran',\n",
       "       'Dinesh Godara',\n",
       "       'Aayushi Khandelwal, Akhil Kansal, Kuldeep Parewa',\n",
       "       'Amit Dutta, Ashok Mittal',\n",
       "       'Abhay Jeet Gupta, Parveen Kataria, Udbhav Rai, Vineet Sharma, Vishal Mishra',\n",
       "       'Supratik Ghatak', 'Surender Gounder', 'Gaurav Baid',\n",
       "       'Denis Sverdlov', 'Angus McDonald, Chris Bayley',\n",
       "       \"Andrea Boeri, Braghin Francesco, Giovanni Capellari, Luca D'Alessandro, Stefano Caverni\",\n",
       "       'Tushar Bhargava, Anshul Gupta',\n",
       "       'Alex Kostecki, Erich Nussbaumer, Nico Simko', 'Arjun Balaji',\n",
       "       'Chintan Raikar, Prashant Iyengar, Sneh Vaswani',\n",
       "       'Harshil Mathur, Shashank Kumar',\n",
       "       'Ashutosh Vikram, Kartheeswaran K K, Sharath Loganathan, Thiru Nagarajan, Thirukumaran Nagarajan, Vasu Devan',\n",
       "       'Binod Kumar Homagai, Sagar Daryani, Shah Miftaur Rahman',\n",
       "       'Anirudh Singla, Rishabh Shekhar',\n",
       "       'Anuj Srivastava, Ramakant Sharma, Shagufta Anurag',\n",
       "       'HariPrasath M., Rupam Das',\n",
       "       'Alessandro Traverso, Birger Lie, Harald Jellum, Matteo Berlucchi',\n",
       "       'Jean Pierre Nozieres', 'Amit Sinha, Ashok Prasad',\n",
       "       'Kuljit Chadha, Subramanian Viswanathan', 'Nitin Gupta',\n",
       "       'Hirak Joshi, Aalesh Avlani',\n",
       "       'KP Saravanan, Krish Subramanian, Rajaraman Santhanam, Thiyagarajan T',\n",
       "       'Ashwini Purohit, MS Chouhan',\n",
       "       'Arun George, Nikhil NP, Rashid Bin Abdulla, Vimal Govind MK',\n",
       "       'Maya Lakshman', 'Kishor Kumar Jha, Praveen Kumar',\n",
       "       'Sandeep Kondaji, Vishnuprasada Bhat, Anand Bellan Raman',\n",
       "       'Nagmanjunath Shivakumar, Savio Sebastian', 'Anurag Bist',\n",
       "       'Abhinand Kaseti, Harish B V, Sathvik Vishwanath, Sunny Ray',\n",
       "       'Andrew Linfoot, Ayush Jaiswal', 'Ram N Kumar', 'Vaibhav Anant',\n",
       "       'Kabandi Saika, Manik Mehta', 'Vinayak Seth',\n",
       "       'Kadam Jeet Jain, Rahul Chaudhary, Sidharth Gupta',\n",
       "       'Mainak, Sreekrishna', 'Azhar Iqubal', 'CA Abhinit Singh',\n",
       "       'Bharat Gupta, Pritesh Kumar',\n",
       "       'Simar Kohli, Tharun Kumar, Praseed KK',\n",
       "       'Ariel Assaraf, Guy Kroupp, Lior Redlus, Yoni Farin',\n",
       "       'Johnson Fernandes, Ravneet Kaur', 'Yi Zhang', 'Anu Meena',\n",
       "       'Ashwin Srivastava, Hardik Somani', 'Lu Zhao', 'Amit Gainda',\n",
       "       'Rahul Gupta, Swati Gupta', 'Rahul Anand',\n",
       "       'Harsimarbir (Harsh) Singh',\n",
       "       'Dinesh Pratap, Lokendra Ranawat, Vikas Baheti, Virendra Ranawat',\n",
       "       'Ruchi Deepak, Varun Dua', 'Pradeep PS',\n",
       "       'Balaji Viswanathan, Bharat Kumar, Mahalakshmi Radhakrishnan',\n",
       "       'Lovepreet Mann, Nikhil Kumar, Parul Jain',\n",
       "       'Suhail Chandhok, Arvind Sivdas, Dhanya Param',\n",
       "       'Benoit Dageville, Bob Muglia, Marcin Zukowski, Thierry Cruanes',\n",
       "       'Santosh Kataria, Ankit Kimtee, Vivek Jain',\n",
       "       'Bhaswat Agarwal, Bikash Dash, Mukul Rustagi, Vatsal Rustagi',\n",
       "       'Saif Dhorajiwala, Vikas saluguti, Vivek Subramanian',\n",
       "       'Binny Bansal, Sachin Bansal',\n",
       "       'Aniket Deshpande, Gaurav Kumar, Irfan Mohammed, Soumendra Ghosh, Vineet Sukumar',\n",
       "       'Ankit Agrawal', 'Afsal Salu, Fayaz Bin Abdu, Soudabi',\n",
       "       'Byju Raveendran', 'Krishna Kumar, Saroja Yeramilli',\n",
       "       'Dhirubhai Ambani',\n",
       "       'Parampara Capital, Venkat Vallabhaneni, Jatin Desai',\n",
       "       'Tuhin Bhowmick', 'Deepshikha Kumar', 'Suhas raikar',\n",
       "       'Bhavit Sheth, Harsh Jain', 'Govind Balachandran', 'Rajan Navani',\n",
       "       'Arun Kumar Sureban', 'Gaurav Parchani',\n",
       "       'Jaydeep Barman, Kallol Banerjee', 'Varun Sheth, Kunal Kapoor',\n",
       "       'R. Baskar Babu', 'Gaurav Munjal, ?Roman Saini?',\n",
       "       'Lodha, Priyanka Rathore', 'Pranav Pai, Siddarth Pai',\n",
       "       'Deepthi Ravula', 'Deepinder Goyal, Pankaj Chaddah',\n",
       "       'Abhishek Satish, Adarsh Warrier', 'Pawan Agarwal',\n",
       "       'Rohtash Mal CMD, Adwitiya', 'Shankar Prasad',\n",
       "       'Vijay Anand Bhagavatula',\n",
       "       'Ananda Prakash Verma, Shailendra Tiwari',\n",
       "       'Saswat Sahu, Rishi Raj',\n",
       "       'Adhil Shetty, Arjun Shetty, Rati Shetty', 'Pratik Shah',\n",
       "       'Nikhilesh Mishra, Puneet Jain',\n",
       "       'Ranjit Punja, R Sudarshan, Gowri Mukherjee', 'Vidur Maheswari',\n",
       "       'Ishan Sharma, Rishikesh Kumar', 'Shubham Gupta, Suresh Singh',\n",
       "       'Sachin Ravi, Raghav Chakravarthy', 'Mihir Mohan Mishra',\n",
       "       'Ashwin Kumar, Shoaib Mohammed',\n",
       "       'Damien Toledo, Jim Bugwadia, Ritesh Patel', 'Anmol Singh Jaggi',\n",
       "       'Dhruv Sawhney, Vivek Sahi, Sunny Bagla',\n",
       "       'Apurv Agrawal, Kanika Jain, Rishabh Ladha, Vikas Gulati',\n",
       "       'Debi Prasad Baral, Naveesh Reddy, Rohit Gajbhiye, Sunit Gajbhiye',\n",
       "       'Amit Sethi, Mandeep Manocha, Nakul Kumar', 'Deepak MV',\n",
       "       'Shailendra Dhakad, Rupika Taneja',\n",
       "       'Aanand Srinivas, Avinash Anand, Shankar Ram A',\n",
       "       'Ashish Munjal, Piyush Nangru',\n",
       "       'Anand Prabhu Subramanian, Vijay Gabale',\n",
       "       'Vaibhav Kapoor, Pulkit Kapoor', 'Anil Kumar',\n",
       "       'Dr Milind Choudhari, Dr Prasad Bhagat, and Dr Anupama',\n",
       "       'Mario Suntanu', 'Manoj Pillai', 'Somdutta Singh', 'Rahul Darda',\n",
       "       'Nishant Patel', 'Erez Galonska, Guy Galonska, Osnat Michaeli',\n",
       "       'Vijay Narasiman', 'Shrirang Tambe', 'Shirish Deodhar',\n",
       "       'Harish Mamtani', 'Shubham Malhotra, Sai Srinivas',\n",
       "       'Iyad Aldalooj, Majid Aldalooj, Mohammed Ibrahim', 'Kunal Mahipal',\n",
       "       'Bharath Rao',\n",
       "       'Abhishek Mishra, Kush Agarwal, Lav Agarwal, Stella Hu',\n",
       "       'Kunal Kishore Sinha, Sagar Pushp', 'Sreevathsa Prabhakar',\n",
       "       'Ankush Sachdeva, Bhanu Pratap Singh, Bhanu Singh, Farid Ahsan',\n",
       "       'Ashray Malhotra, Nisheeth Lahoti, Shivam Mangla',\n",
       "       'Saroja Yeramilli, R Krishnakumar',\n",
       "       'Chandranshu Sinha, Kartik Sheth', 'Shah, Abhay Bhat',\n",
       "       'Ajay Kadyan, Kumar Mayank', 'Tarun Lawadia, Sameer Kalra',\n",
       "       'Kabir Bose', 'Malika Datt Sadani, Mohit Sadaani', 'Ji Cheol Ryu',\n",
       "       'Anurag Sinha, Rupesh Kumar, Vibhav Hathi',\n",
       "       'Jitendra Chouksey, Sonal Singh, Jyoti Dabas, Bala Krishna Reddy, Rohit Chattopadhyay.',\n",
       "       'Akash Deep Singhal, Akshaya Singhal, Devashish Saxena, Gauri Dehnkar',\n",
       "       'Rohan Bhargava, Swati Bhargava',\n",
       "       'Nishant Chandra, Siddharth Maheshwari',\n",
       "       'Lalit Mangal, Manoj Singh, Vinay Kumar Jasti',\n",
       "       'Akash Singh, Sharath Keshava Narayana, Swapnil Jain',\n",
       "       'Bhupinder Singh', 'Zishaan Hayath, Hemanth Goteti',\n",
       "       'Vinay Sanghi', 'Sumeet Mehta, Smita Deorah', 'Sahil Sheth',\n",
       "       'Nirmit Parikh', 'Amit Rathore',\n",
       "       'Kabeer Biswas, Ankur Agarwal, Dalvir Suri, Mukund Jha',\n",
       "       'Ranjan Kumar', 'Anuj Srivastava, Ramakant Sharma',\n",
       "       'Swarup Mavanoor, Rahul Sankhe', 'Saurabh Pandey, Akshay Dubey',\n",
       "       'Vivek Rajkumar',\n",
       "       'Sonal Dandotia, Shantanu S, Virendra Chouhan, Vaibhav Tiwari',\n",
       "       'Rama Harinath, Srikanth Iyer', 'Darpan Sanghvi', 'Kajal Ilmi',\n",
       "       'Arunprasad Durairaj, Vijaybabu Gandhi, Shreenidhi Srirangam',\n",
       "       'Madhusudanan R, Prabhu R',\n",
       "       'Dr. R. Shivaraman, Praveen Dwarakanath', 'Arun Prakash',\n",
       "       'Anmol Singh Jaggi, Punit K Goyal',\n",
       "       'Nakul Kukar, Paras Kaushal, Supratim Naskar',\n",
       "       'Sai Srinivas Kiran Garimella, Shubham Malhotra',\n",
       "       'Kishan Vasani, Sai Sreenivas Kodur', 'Amit Dhakad, Hiral Jain',\n",
       "       'Lalit Keshre, Harsh Jain, Neeraj Singh, Ishan Bansal',\n",
       "       'Dr Mallesh Bommanahal, Varzavand Batliwala',\n",
       "       'Pratik Agarwal, Raj Desai, Varsha Bhambhani', 'Amit Agrawal',\n",
       "       'Karthi Mariappan', 'Tanmai Gopal, Rajoshi Ghosh',\n",
       "       'Ravi Ravulaparthi, Lakshman Gupta, Vamsee Mohan', 'Cindy Kua',\n",
       "       'Yashash Agarwal, Gaurav Agarwal', 'Ankit Agarwal',\n",
       "       'Vaishali Kulkarni, Arjun Singh Bajwa',\n",
       "       'Ananth Narayanan, T-ushar Kumar', 'Ashok Hariharan, Vineet Jawa',\n",
       "       'Charlie, Jay, Martin', 'Samarth Agrawal, Rohit Narang',\n",
       "       'Manoj Gupta, Monica Gupta',\n",
       "       'Arpita Kapoor, Mohit Rangaraju, Shilp Gupta',\n",
       "       'Pankaj Chaddah, Staff Pooja Khanna', 'Ishan Sharma, Rishikesh',\n",
       "       'Chaitanya Kalipatnapu, Ashwin Damera', 'Shobhit Bhatnagar',\n",
       "       'Abhishek Goyal, Neha Singh', 'Abhishek Agarwal',\n",
       "       'Pramod Ravindra', 'Saurabh Singh, Rahul Jain, Nagender Sangra',\n",
       "       'Amit Singh, Deepanshu Malviya', 'Aniket Shinde, Hardik Gondaliya',\n",
       "       'Sarvesh Shashi',\n",
       "       'Siddharth Das, Dr Rahul Dave, Dr Pavlos Protopapas',\n",
       "       'Nakerikanti Harish', 'Peter Barcak',\n",
       "       'Arpit Rajpurohit, Jayesh Rajpurohit',\n",
       "       'Amit Bhardwaj, Nikhil Hegde.',\n",
       "       'Srinivas Madhavam, Srikanth Rajashekhar, Rahul Mehta',\n",
       "       'Sonakshi Nathani, Ashutosh Singla', 'Omer Basith',\n",
       "       'Devansh Jain Nawal, Ackshay Jain', 'Snehil Khanor',\n",
       "       'Nimish Goel, Nevaid Aggarwal, Devender Bindal',\n",
       "       'Ankush Aggarwal, Tushar Mehndiratta', 'Manuraj Jain, Surajit Raj',\n",
       "       'Kunaal Dudeja, Nalin Saluja, Archit Jayaswal',\n",
       "       'Manish Shara, Yash Desai', 'Gaurav Singh', 'Varun Khanna',\n",
       "       'Inderveer Singh', 'Sumeet Yashpal Mehta, Smita Deorah',\n",
       "       'Pulkit Agrawal, Prashant Sachan, Arun Lodhi, Bimal Kartheek Rebba, Nirav Sheth',\n",
       "       'Utham Gowda',\n",
       "       'Mihir Gupta, Payoj Jain, Divyansh Bordia, Anshuman Kumar',\n",
       "       'Kshitij Khandelwal, Awais Ahmed', 'Dhruv Bhushan',\n",
       "       'Rajesh Bernard, Vijay Krishna, Prateek Mehta',\n",
       "       'Ravish Agrawal, Swatantra Kumar, Siddharth Srivastav',\n",
       "       'Sanjeev Nair', 'Smriti Tomar', 'Anurag Sinha',\n",
       "       'Prateek Shukla, Nrupul Dev, Yogesh Bhat',\n",
       "       'Shivank Agarwal, Anish Khandelwal.',\n",
       "       'Prerna Kalra, Vidya Bhushan',\n",
       "       'DVL Padma Priya, Rakesh Kamal, Tarun Nirwan',\n",
       "       'Public banks, Private lenders',\n",
       "       'Kiran Ramakrishna, Subhajit Mukherjee',\n",
       "       'Pranjal Kacholia, Divyansh Mathur', 'Rishab Mehta',\n",
       "       'Sateesh Nukala, SachinNandwana', 'Vineet Toshniwala',\n",
       "       'Srikanth Iyer, Rama Harinath', 'Sandipan Mitra, Uttam Kumar',\n",
       "       'Ananthakrishnan Gopal, Ashok Balasundaram, Sriram P H',\n",
       "       'Varun Chopra, Raheel Shah', 'Kshitj Puri, Shalabh Singhal',\n",
       "       'Rushabh Sheth, Bikram Dahl',\n",
       "       'Abhinav Ayan, Anirban Jyoti Chakravorty, Soumyaranjan Harichandan',\n",
       "       'Biswatma Nayak, Siddharth Gautam', 'Varun Saxena',\n",
       "       'Rajit Bhattacharya, Aisik Paul, Ankit Das',\n",
       "       'Adit Chhabra, Tapan Dixit,Tanay Dixit.',\n",
       "       'Viijender Reddy, Manas Ranjan Hota', 'Tanmaya Jain, Varun Puri',\n",
       "       'Anand Singh, Ankit Vaish', 'Vittal Ramakrishna',\n",
       "       'Jaydeep Barman, Kallol Bannerjee',\n",
       "       'Manish Jethani, Sourabh Agarwal',\n",
       "       'Kapil Mathrani, Rohan Bhatt, Poojan Thakkar', 'Sumit Ghosh',\n",
       "       'Ankush Sachdeva, Bhanu Pratap Singh, Farid Ahsan', 'Dhruvin Shah',\n",
       "       'Dr. Sachin Bhavsar', 'Sumeet Kapur, Ankur Bhatia, Aanchal Kapur',\n",
       "       'Prasanna Kumar, Mahesh Bhat, Rajasekhar, Amith S Mali',\n",
       "       'Karan Khairajani, Surojit Roy', 'Sachin Bhatia, Atit Jain',\n",
       "       'Zishaan Hayath',\n",
       "       'Archana Elapavuluri, Namandeep Bhatia, Siddharth Panjwani',\n",
       "       'K.L.N Sai Prasanth, Yathindra Ajay K.A, K. Prathyusha',\n",
       "       'Vivek Tiwari', 'Bijay Gautam, Souniya Khurana',\n",
       "       'Saif Dhorajiwala', 'Mohammed Hisamuddin', 'Deepak Grover',\n",
       "       'Sudeep Singh', 'Ragini Das, Anand Sinha',\n",
       "       'Tarun Mehta, Swapnil Jain',\n",
       "       'Chirag Mittal, Parag Modi, Anirudh Syal',\n",
       "       'Praneeth Kumar, Shobhit Jain, Mrudhukar Batchu, Kiran Naik',\n",
       "       'Suman Maram, Sudheer Maram',\n",
       "       'Siddharth Vij, Siddharth Rastogi, Shubham Agarwal, Chaitanya Rathi',\n",
       "       'Ashwin Ajila', 'Meghna Saraogi, Akhil Tolani',\n",
       "       'Silky Singh, Alkheya Boora Rpsey', 'Mugdha Pradhan',\n",
       "       'Saurabh Saxena, Pulkit Jain, Anand Prakash, Vamsi Krishna',\n",
       "       'Anshoo Sharma, Brij Bhushan', 'Gaurav Baheti, Sumit Mendiratta',\n",
       "       'Hitesh Ahuja', 'Rathinamurthy R, Sridher Jeyachandran',\n",
       "       'Gotama Gowda', 'Ashish C', 'Nikhil Hegde, Amit Bhardwaj',\n",
       "       'Saurabh Saxena',\n",
       "       'Prateek Garg, Vishva Sharma, Rahul Gupta, Rishabh Nagpal, Ratan Sethi',\n",
       "       'Chaitanya Nallan, Sangram Simha, Veerendra Shivhare',\n",
       "       'Sahil Sharma, Aditya Shirole', 'Manish Tewari',\n",
       "       'Vidur Maheshwari', 'Ashni Sheth, Varun Sheth', 'Vikram Chopra',\n",
       "       'RajanNavani', 'Rushi Shenghani', 'Sanchit Garg, Sanjeev Dadhich',\n",
       "       'Abhilasha, Kshitij Purwar',\n",
       "       'Anuj Bhuria, Himanshu Kumar, Himanshu Meena', 'Rohit Taneja',\n",
       "       'Akhil Sikri, Nikhil Sikri, Sneha Choudhry', 'Ajaitha Shah',\n",
       "       'Sreeshankar S Nair, Romeo P Jerard',\n",
       "       'Vikram Jetley, Sanjay Sharma',\n",
       "       'Neeraj Kakkar, James Nutall, Suhas Misra, Neeraj Biyani',\n",
       "       'Ganesh Raju', 'Anuj Krishnan', 'Ooshma Garg',\n",
       "       'Rohit Grover, Pradeep Thangappan', 'Devang Shah, Gaurang Shah',\n",
       "       'Devesh Trivedi, Sanchit',\n",
       "       'Praveen Dwarkanath, Dr. Shivaraman Ramaswamy',\n",
       "       'Vijay Babu Gandhi, Shreenidhi Srirangam, Arunprasad Durairaj',\n",
       "       'Amrit Acharya, Srinath Ramakkrushnan, Vishal Chaudhary',\n",
       "       'Pavan Adipuram',\n",
       "       'Bhagaban Behera, Sriharsha Shetty, Nakul Kelkar', 'Swapnil Sahu',\n",
       "       'Aniruddh Singh, Riyaz Khan, Sagar Sheth', 'Mayank Yadav',\n",
       "       'Rajat Jadhav, Rahul Krishnan, Harsh Singh, Mohit Yadav',\n",
       "       'Amit Nanwani', 'Shivani Poddar, Tanvi Malik', 'Rajan Bajaj',\n",
       "       'Abhas Saroha, Oliver Jones', 'Aarti Gill, Mihir Gadani',\n",
       "       'Dhruv Agrawal, Faith Jiwakhan',\n",
       "       'Vemuri, Deepak Sharma, Pranay Gupta, Varun Chawla', 'Amit Gupta',\n",
       "       'Anant Goel', 'Hormazd Charna, Manoj Mishra',\n",
       "       'Amit Bhasin, Kushal Karwa, Nitin Rana, Rishabh Karwa',\n",
       "       'Srikumar Misra', 'Prasad Akella',\n",
       "       'Aditya Singhal, Nishant Sinha, Bahul Arora',\n",
       "       'Abhijit Roy, Samir Pratihar',\n",
       "       'Runal Dahiwade, Nityanand Prabhutendolkar, Miraj C. Vora',\n",
       "       'Arjun Ahluwalia, Adriel Maniego', 'Yash Vyas',\n",
       "       'Pushkar Singh, Sudarshan Ravi, Ankit Parasher',\n",
       "       'Niraj Raka, Poonam Gugale, Piyush Raka',\n",
       "       'Pranav Chopra, Neeraj Kumar', 'Dr Janani Venkatraman',\n",
       "       'Ravi Nishant',\n",
       "       'Rohan Mirchandani, Ganesh Krishnamurthy, Rahul Jain,Uday Thakkar.',\n",
       "       'Rajeev Agrawal', 'Babu Sivadasan',\n",
       "       'Abhijit Kane, Abhinav Asthana, Ankit Sobti',\n",
       "       'Raghav Arora, Lalit Kumar Aggarwal',\n",
       "       'Karthick Jayraman, Sanjay Dasari',\n",
       "       'Dr Gopichand Katragadda, Ganesh Suryanarayanan, Aditi Olemann.',\n",
       "       'Dr Binita Shrivastava Tunga, Dr Rashbehari Tunga',\n",
       "       'Shubhendra Vikram, Ankit Kumar', 'Ashish Gupta',\n",
       "       'Raghuraj Sunder Raju, Prasad Basavaraj, Sandeep Gudibanda',\n",
       "       'Shailesh Gupta, Mukul Shah', 'Nitesh Salvi',\n",
       "       'Purav Shah, Sandesh Reddy', 'Prashant Jain, Varun Khurana',\n",
       "       'Aswani Chaitanya',\n",
       "       'Lokendra Ranawat, Dinesh Pratap Singh, Virendra Ranawat, Vikas Baheti',\n",
       "       'Adhil Shetty, Arjun Shetty, Rati Shetty,', 'Geetansh Bamania',\n",
       "       'Rishabh Goel, Anand Agrawal, Mayank Khera',\n",
       "       'Kinner N Sacchdev, Rakhi Wadhwa', 'Karan Shaha, Vikas Chandrawat',\n",
       "       'Akshay Pai', 'Satyen Kothari, Beenext, Asuka Holding',\n",
       "       'Naresh Rao, Nikhil Rajmohan, Harinath Chakravarthy, Pravin Sethuraman',\n",
       "       'Indrajeet Roy', 'Bhavish Aggarwal', 'Amit Ramani',\n",
       "       'Kabeer Biswas,  Mukund Jha, Dalvir Suri, Ankur Aggarwal',\n",
       "       'Abhinav Agarwal, Anand Bakode',\n",
       "       'Dr Ruchir Mehra, Harsh Bansal, Richeek Arya',\n",
       "       'Mithun Srivatsa, Nikhil Shivaprasad',\n",
       "       'Vinayak Srivastav, Saket Dandotia, Alok Patil', 'Jatin Singh',\n",
       "       'Sumit Gupta, Neeraj Khandelwal', 'Lalit Menghani', 'Saurav Kumar',\n",
       "       'Suvendu Prusty, Sorabh Bhandari, Chiranth Patil.',\n",
       "       'Sandeep Vohra', 'Anurba Nath',\n",
       "       'Gowri Mukherjee, Ranjit Punja, Rajasundaram Sudarshan',\n",
       "       'Mohammed Riaz', 'Hrishikesh Datar', 'Ravish Naresh',\n",
       "       'Harshvardhan Lunia, Mukul Sachan',\n",
       "       'Akash Deep Singhal, Akshaya Singhal', 'Uttam Kumar',\n",
       "       'Ashwini Purohit', 'Pritesh Asher',\n",
       "       'Amit Kharat, Ajit Patil, Aniruddha Pant',\n",
       "       'Krishnan, Shane Bilsborough', 'Abhisheka Kumar, Malkit Didyala',\n",
       "       'Kartikey Hariyani',\n",
       "       'Milan Sharma, Nishant Mishra, Himani Shah, Devendra Chandani',\n",
       "       'Ajay Agrawal', 'Venkatesh Rangachari, Vipul Gupta',\n",
       "       'Naman Sarawagi, Mohit Jain', 'Saahil Goel',\n",
       "       'Sanjay Kumar, Deepti Prasad', 'Satish Kannan',\n",
       "       'Sumit Sinha,\\xa0\\xa0Mukesh Bansal', 'Arjun Deshpande',\n",
       "       'Prajit Nanu', 'Raman Khanduja, Sanjay Nazareth', 'Rajesh Yabaji',\n",
       "       'Gupta, Akshay Deshraj, Manoj Sarda',\n",
       "       'Avinash BR, Gururaj Rao, Arvind Murali, Santhosh Narasipura',\n",
       "       'Steve Hardgrave',\n",
       "       'Prashanth Kuppur, Deepak Kalhan, Saurabh Kukreti, Richpal Gora',\n",
       "       'Amit Naik, Kewal Vargante', 'Piyush, Dipesh Agarwal',\n",
       "       'Suraj Saste', 'Dr Subhash Narayanan',\n",
       "       'Ranjeet Pratap Singh, Sankaranarayanan Devarajan, Sahradayi Modi, Rahul Ranjan, Prashant Gupta',\n",
       "       'Vishal Jindal', 'Nishith Chasmawala, Amit Sharma', 'Rajat Gupta',\n",
       "       'Harsh Bansal', 'Darshan Shah', 'Nitin Agrawal, Garima Agrawal',\n",
       "       'Archin Shah, Abhilash Sonwane, Ritesh Gandhi',\n",
       "       'Mukul Rustagi, Bhaswat Agarwal', 'Tushar Kumar, Prashant Singh',\n",
       "       'Ishan Gupta, Aarti Gupta',\n",
       "       'Gagan Vermani, Divyanshu Sachdev, Gyan Prakash Tiwari',\n",
       "       'Amit Sharma, Apoorva Jois', 'Vivek Gupta, Jatin Solanki',\n",
       "       'Romesh Khaddar, Shikha Chaudhry, Sumedh Chaudhry',\n",
       "       'Raghavendra Prasad', 'Tarun Dhamija, Kartik Bansal',\n",
       "       'Jitendra Chouksey', 'Suresh Bavisetti, Paarth Dhar',\n",
       "       'Arindam Ghosh, U R Bhatt', 'Sagar Yarnalkar',\n",
       "       'SP Balamurugan, Arun Prakash, Sri Devi',\n",
       "       'Raghuram Talluri, Tanmoy Karmakar, Rakib Ahmed',\n",
       "       'Venkatesh Sundar, Nandini Tandon',\n",
       "       'Shivashish Chatterjee, Yuvraja Singh',\n",
       "       'Rohin Parkar, Malcolm Dsouza', 'Mittal',\n",
       "       'Nukul Upadhye, Mahesh Jakhotia, Jitender Bedwal, Daya Rai, Nikhil Tripathi',\n",
       "       'Anand Anandkumar', 'Manas Ranjan Hota, Vijender Reddy',\n",
       "       'Madhusudanan R, Muthukumar and Prabhu',\n",
       "       'Vetrivel Palani, Paneerselvam', 'Megha Wadhwa, Karnesh Mahendru',\n",
       "       'Karanvir Singh, Utkarsh Bagri, Vikram Shekhawat, Deepak Choudhary',\n",
       "       'Amit Kumar Agarwal, Akhil Gupta, Saurabh Garg',\n",
       "       'Amit Raj, Anshul Gupta', 'Gaurav Hinduja, Sashank Rishyasringa',\n",
       "       'Mayank Kukreja, Anish Khadiya', 'Ashish Bhandari',\n",
       "       'Jen Horonjeff', 'Samarth Kholkar, Sandeep Mukherjee',\n",
       "       'Raghavendra Kumar Ravinutala',\n",
       "       'Vinayak Shrivastav, Saket Dandotia, Alok Patil',\n",
       "       'Sahil Kini, Nikhil Kumar', 'Abhishek Shah',\n",
       "       'Rishabh Jain, Aditi Sinha',\n",
       "       'Gaurav Srivastava, Gautam Kumar, Kushal Nahata',\n",
       "       'Pranav Goel, Uttam Digga', 'Rohit Paranjpe',\n",
       "       'Abhinay Choudhari, Hari Menon, Vipul Parekh, VS Sudhakar',\n",
       "       'Jitendra Gupta',\n",
       "       'Shrikrishna Bharambe, Shripad Nadkarni, Varun Khanna, Abhijit Berde',\n",
       "       'Vineet Shetty, Anushka Shetty', 'Malhi, Siddhant Saurabh',\n",
       "       'Shashank Kumar', 'Nandan Reddy, Sriharsha Majety, Rahul Jaimini',\n",
       "       'Saurabh Pandey, Mahadevan Narayanamoni', 'Deepinder Goyal',\n",
       "       'Karan Bhardwaj', 'Vimal Kumar', 'Tapojit Debnath, Nirman Dave',\n",
       "       'Pratyush Halen, Anuraag Agrawal',\n",
       "       'Prashant Border, Saurya Prakash Sinha', 'Ajith Mohan Karimpana',\n",
       "       'Suneel Kumar, Gaurav Tomar, Sucharita Redd',\n",
       "       'Anshul Bhagi, Sandeep Bhagi', 'Sam Santhosh',\n",
       "       'Kishor Jha, Praveen Kumar',\n",
       "       'Deepak Bhuvneshwari Uniyal, Shilpa Arora, Shailesh Kumar, Sanjay Aggarwal',\n",
       "       'Subhash Narayanan', 'Mukesh Bansal, Ankit Nagori',\n",
       "       'Tapesh Goyal, Rajesh Vaidhyanathan', 'Preet Arjun Singh',\n",
       "       'Sneha Roy', 'Dilip Kumar, Selvan Thamarai, Deepti Nair',\n",
       "       'Monica Gupta. Manoj Gupta',\n",
       "       'Anubhav Jain, Ankit Singh, Jawaid Iqbal',\n",
       "       'Rishi Malhotra, Akhil Gupta', 'Sumit Gupta',\n",
       "       'Sagar Modi, Advaith Vishwanath', 'Adarsh Anand, Amit Tiwari',\n",
       "       'Rajan Sharma', 'Prabhdeep Singh', 'Mihir Mohan mishra',\n",
       "       'Jaideep Gupta',\n",
       "       'Ezhilarasan Natarajan, Sabapathy Arumugam, Krishnakumar Narayanan, Thiruvalluvar NB',\n",
       "       'Gaurav Kumar, Vineet Sukumar', 'Srinath Ravichandran',\n",
       "       'George Mitra, Rajan Pathak',\n",
       "       'Amit Chandel, Rohit Garg, Vinay Kumar, Jayant Upadhyay',\n",
       "       'Pranesh Chaudhary, Sushant Sachan', 'Abhinav Jain, Aditya Gupta',\n",
       "       'Sridhar Joshi, Prashant Kulkarni',\n",
       "       'Maneet Gohil, Sanchit Govil, Albin Jose',\n",
       "       'Govind Agrawal, Arti Agrawal', 'Arshi Khan',\n",
       "       'Ankit Jain, Anand Shah', 'Pankaj Singh', 'Kush Taneja',\n",
       "       'Pramod Ghadge', 'Pei-fu Hsieh, Amit Jangir',\n",
       "       'Lalit Mangal, Vinay Jaasti, Manoj Singh', 'Rajesh',\n",
       "       'Rohan Mirchandani', 'Lathika Pai', 'Sriram Subramanian',\n",
       "       'Vidushi Kajaria, Aayush Goenka',\n",
       "       'Sudarshan Lodha, Priyanka Rathore',\n",
       "       'Sreeraman Vaidyanathan, Surga Thilakan', 'Prasanna Rao',\n",
       "       'Vaibhav Singh, Arnav Kumar',\n",
       "       'Ajai Thandi, Arman Sood, Ashwajeet Singh',\n",
       "       'Charit Bhograj, Zainul Charbiwala, Udayan Dasgupta, Abhinav Gujjar',\n",
       "       'Ajit Panda', 'Vivekananda Hallekere, Anil Giri Raju, Arun Agni',\n",
       "       'Taran Chhabra, Amar Preet Singh',\n",
       "       'Vipul Sharma, Rajat Kumar, Sachin Arora, Mohit Goel',\n",
       "       'Bhatia, Sneha Shah', 'Li Yong, Shushant Srivastava',\n",
       "       'Niraj Singh, Mohit Gupta, Ramanshu Mahuar',\n",
       "       'Pallavi Agarwal, Pankaj Parwanda', 'Ashutosh Sharma',\n",
       "       'Anand Ayyadurai, Padmanabhan Balakrishnan, Sanchit Mittal',\n",
       "       'Saurabh Singh', 'Prashant Warier, Pooja Rao', 'Gokul Shrinivas',\n",
       "       'Supriya Paul, Shobhit Banga', 'Ringaile Noq',\n",
       "       'Manish Rathi, Kapil Raizada, Sachin Saxena',\n",
       "       'Pankaj Raut, Abhishek Tomar, Abhijit Patil',\n",
       "       'Anirudh Singla and Rishabh Shekhar', 'Radha Basu',\n",
       "       'Ashneer Grover', 'Sanket Shah',\n",
       "       'Varun Mayya, Shashank Udupa, Abhinav Arora', 'Anubhav Sharma',\n",
       "       'Madhan Mohan , Akash Chelvam', 'Archit Agarwal, Harry Sehrawat',\n",
       "       'Vinay Kothari', 'Khadim Batti, Vara Kumar',\n",
       "       'Gaurav Munjal, Roman Saini, Hemesh Singh',\n",
       "       'Rajan Dang, Anushree Srivastava', 'Kabeer Biswas', 'Kamesh Goyal',\n",
       "       'Shailesh Gupta, Mukul Shah, Danish Chopra',\n",
       "       'Tithi Tewari, Gautam Tewari', 'Samarth Agrawal',\n",
       "       'Aniruddha Sharma, Prateek Bumb', 'Mahipal',\n",
       "       'Vishal Khatter, Dheeraj Khatter, Dipak Varshney',\n",
       "       'Maneesh Dhooper, Kunal Malik',\n",
       "       'Ajith Nayar, Umesh, Mahesh Subramanian', 'Amit Bagaria',\n",
       "       'Chinmoy Mishra, Gaurav Vij, and Abhishek Verma',\n",
       "       'Vijeet Pandey, Vikas Rishishwar', 'Yogesh Thore', 'Ritesh Kumar',\n",
       "       'Vijay Shekhar Sharma', 'Nicky Goulimis',\n",
       "       'Singla, Kannu Mittal, Dhawal Parate',\n",
       "       'Jayesh Rajpurohit, Arpit Rajpurohit', 'Abhishek Mohan',\n",
       "       'Raviteja Dodda, Yashwanth Kumar', 'Rustagi, Bhaswat Agarwal',\n",
       "       'Nitin Saluja, Raghav Verma', 'Apurv Patel',\n",
       "       'Shamik Guha, Sayan Tapadar, Muhammad Bilal Shakil, Anirban Datta Gupta',\n",
       "       'Ambareesh Murty, Ashish Shah', 'Supam Maheshwari, Amitava Saha',\n",
       "       'Karthick Jayraman and Sanjay Dasari', 'Kunal Patil',\n",
       "       'AR Rahman, Shekhar Kapur', 'Narain Karthikeyan.',\n",
       "       'Jitendra Emmani', 'Kapil Gupta', 'Shailaz Nag',\n",
       "       'Lal Chand Bisu, Vikas Goyal, Vinod Kumar Meena',\n",
       "       'Nikhil Banerjee', 'Sachin Chopra', 'Rakesh Sharma',\n",
       "       'Katie Russel and Daniel Wiegand',\n",
       "       'Vineet Sharma, Abhay Jeet Gupta, Udbhav Rai, Parveen Kataria, Vishal Misra',\n",
       "       'Aditi Avasthi', 'Mohammed Hisamuddin, Rahul Ramesh', 'Akash Deep',\n",
       "       'Tarun Khanna', 'Prashant Tandon, Gaurav Agarwal, Vikas Chauhan',\n",
       "       'Akaash Shankar', 'Tanushri Nagori, Aditya Shankar',\n",
       "       'Sandeep Bommireddi, Sravanth Gajula',\n",
       "       'Aditya Agarwalla, Sanjay Agarwalla', 'Vikash Jha',\n",
       "       'Guna Kakulapati, Rama Rajanna, Charu Sharma', 'Amit Bansal',\n",
       "       'Abhimanyu Saxena', 'Bala Parthasarathy, Anuj Kacker, Kunal Varma',\n",
       "       'Rohit Manghnani, Amit K Jaiswal, Iccha Manghnani',\n",
       "       'Ashish Kashyap', 'Sachin Agarwal, Aniket Deb, Ankit Tomar',\n",
       "       'Oren Kaniel, Reshef Mann', 'Bhavik Vasa',\n",
       "       'Navratn Singh, Kamal Pandey',\n",
       "       'Lokvir Kapoor, Rajul Garg, Tarun Upaday', 'Sharmin Ali',\n",
       "       'Neeraj Singh, Alok Arora', 'Dhruvil Sanghvi, Manisha Raisinghani',\n",
       "       'Shikhar Veer Singh, Nidhi Singh',\n",
       "       'Sarvesh Shrivastava, Ved Prakash Khatri, Amit Kapoor',\n",
       "       'Vivekananda Hallekere, Anil Giri Raju,Arun Agni', 'Amit Lakhotia',\n",
       "       'Abhay Rangan', 'Prithwi Dasgupta, Arnab Chatterjee', 'Trivedi',\n",
       "       'Snigdha Manchanda, Vikas Kumar, Aishwarya Malhi',\n",
       "       'Greg Moran, David Back',\n",
       "       'Suneel Kumar, Sucharita Reddy, Gaurav Tomar, Akhilesh Nigam,',\n",
       "       'Shailendra Singh, Deepinder Dhingra, Pavan Palety',\n",
       "       'Asheesh Chanda, Vineeth Narasimhan',\n",
       "       'Balaji Viswanathan, Be Limitless Inc., Zingfin.com, NalandaU',\n",
       "       'Kumar Mayank, Ajay Kadyan', 'Anish Agarwal, Anant Jain',\n",
       "       'Nirav Patil', 'Bhavesh Shah, Manav Shah', 'Abhishek Emmanuel',\n",
       "       'Mahe Bayireddi', 'Kavita Dhillon', 'Sousthav Chakrabarty',\n",
       "       'Kartikeya Goel', 'Soham Thacker, Varun Gajjar', 'Arka Dhar',\n",
       "       'Divya Agarwal, Ketika Kapoor', 'Deepanshu Arora, Parita Parekh',\n",
       "       'Thirukumaran Nagarajan, Sharath Loganathan, Sachin Jose, Kartheeswaran KK, Vasudevan Chinnathambi',\n",
       "       'Akash Sharma, Abhishek Agarwal',\n",
       "       'Mahesh Gogineni, Varun MS, Manan Maheshwari', 'Amal PS',\n",
       "       'Anurakt Jain, Ishita Verma', 'Rajiv Mukherjee', 'Bharat Sethi',\n",
       "       'Neeraj Kumar', 'Pramath Raj Sinha', 'Gaurav Munjal', 'Leo Mavely',\n",
       "       'Mr. Subhashis Kar', 'Amit Narang',\n",
       "       'Praveen Agrawal, Yadvendar Champawat, Manoj Munna, Abhishek Sagar, Ashutosh Kumar, Narendra Agrawal',\n",
       "       'Tanvi Malik, Shivani Poddar.', 'Neer Sharma',\n",
       "       'Ghazal Alagh, Varun Alagh', 'Siddharth Gadia', 'Sashi Narahari',\n",
       "       'Jahabar Sadique, Balaji Sadagopan',\n",
       "       'Sonal Khandelwal, Vaibhav Tiwari', 'Kanav Sachdeva',\n",
       "       'Kumar Varma', 'Vishvajit Sonagara',\n",
       "       'Santosh Shinde, Sanjay Borkar', 'Himanshu Jain, Pulkit Jain',\n",
       "       'Vikram Kankaria, Priyanka Kankaria', 'Akshay Chaturvedi',\n",
       "       'Sujith Narayanan, Sumit Gwalani', 'Manish Taneja, Rahul Dash',\n",
       "       'Jayakrishnan, Abhijeet Manohar'], dtype=object)"
      ]
     },
     "execution_count": 28,
     "metadata": {},
     "output_type": "execute_result"
    }
   ],
   "source": [
    "df_2020['Founders'].unique()"
   ]
  },
  {
   "cell_type": "code",
   "execution_count": 29,
   "metadata": {},
   "outputs": [
    {
     "data": {
      "text/plain": [
       "0"
      ]
     },
     "execution_count": 29,
     "metadata": {},
     "output_type": "execute_result"
    }
   ],
   "source": [
    "df_2020['Investor'].fillna('unknown', inplace=True)\n",
    "df_2020['Investor'].isnull().sum()"
   ]
  },
  {
   "cell_type": "code",
   "execution_count": 30,
   "metadata": {},
   "outputs": [
    {
     "name": "stdout",
     "output_type": "stream",
     "text": [
      "<class 'pandas.core.frame.DataFrame'>\n",
      "RangeIndex: 1055 entries, 0 to 1054\n",
      "Data columns (total 9 columns):\n",
      " #   Column         Non-Null Count  Dtype  \n",
      "---  ------         --------------  -----  \n",
      " 0   Company/Brand  1055 non-null   object \n",
      " 1   Founded        1055 non-null   int32  \n",
      " 2   HeadQuarter    1055 non-null   object \n",
      " 3   Sector         1042 non-null   object \n",
      " 4   What_it_does   1055 non-null   object \n",
      " 5   Founders       1055 non-null   object \n",
      " 6   Investor       1055 non-null   object \n",
      " 7   Amount($)      801 non-null    float64\n",
      " 8   Stage          1055 non-null   object \n",
      "dtypes: float64(1), int32(1), object(7)\n",
      "memory usage: 70.2+ KB\n"
     ]
    }
   ],
   "source": [
    "df_2020.info()"
   ]
  },
  {
   "cell_type": "code",
   "execution_count": 31,
   "metadata": {},
   "outputs": [
    {
     "data": {
      "text/plain": [
       "count    8.010000e+02\n",
       "mean     1.130430e+08\n",
       "std      2.476635e+09\n",
       "min      1.270000e+04\n",
       "25%      1.000000e+06\n",
       "50%      3.000000e+06\n",
       "75%      1.100000e+07\n",
       "max      7.000000e+10\n",
       "Name: Amount($), dtype: float64"
      ]
     },
     "execution_count": 31,
     "metadata": {},
     "output_type": "execute_result"
    }
   ],
   "source": [
    "df_2020['Amount($)'].describe()"
   ]
  },
  {
   "cell_type": "code",
   "execution_count": 32,
   "metadata": {},
   "outputs": [
    {
     "data": {
      "text/plain": [
       "0"
      ]
     },
     "execution_count": 32,
     "metadata": {},
     "output_type": "execute_result"
    }
   ],
   "source": [
    "#Fill in missing data with median\n",
    "median_Amount=df_2020['Amount($)'].median()\n",
    "df_2020['Amount($)'].fillna(median_Amount, inplace=True)\n",
    "df_2020['Amount($)'].isnull().sum()"
   ]
  },
  {
   "cell_type": "code",
   "execution_count": 33,
   "metadata": {},
   "outputs": [
    {
     "name": "stdout",
     "output_type": "stream",
     "text": [
      "<class 'pandas.core.frame.DataFrame'>\n",
      "RangeIndex: 1055 entries, 0 to 1054\n",
      "Data columns (total 9 columns):\n",
      " #   Column         Non-Null Count  Dtype  \n",
      "---  ------         --------------  -----  \n",
      " 0   Company/Brand  1055 non-null   object \n",
      " 1   Founded        1055 non-null   int32  \n",
      " 2   HeadQuarter    1055 non-null   object \n",
      " 3   Sector         1042 non-null   object \n",
      " 4   What_it_does   1055 non-null   object \n",
      " 5   Founders       1055 non-null   object \n",
      " 6   Investor       1055 non-null   object \n",
      " 7   Amount($)      1055 non-null   float64\n",
      " 8   Stage          1055 non-null   object \n",
      "dtypes: float64(1), int32(1), object(7)\n",
      "memory usage: 70.2+ KB\n"
     ]
    }
   ],
   "source": [
    "df_2020.info()"
   ]
  },
  {
   "cell_type": "code",
   "execution_count": 34,
   "metadata": {},
   "outputs": [
    {
     "data": {
      "text/plain": [
       "array(['AgriTech', 'EdTech', 'Hygiene management', 'Escrow',\n",
       "       'Networking platform', 'FinTech', 'Crowdsourcing',\n",
       "       'Food & Bevarages', 'HealthTech', 'Fashion startup',\n",
       "       'Food Industry', 'Food Delivery', 'Virtual auditing startup',\n",
       "       'E-commerce', 'Gaming', 'Work fulfillment', 'AI startup',\n",
       "       'Telecommunication', 'Logistics', 'Tech Startup', 'Sports',\n",
       "       'Retail', 'Medtech', 'Tyre management', 'Cloud company',\n",
       "       'Software company', 'Venture capitalist', 'Renewable player',\n",
       "       'IoT startup', 'SaaS startup', 'Aero company', 'Marketing company',\n",
       "       'Retail startup', 'Co-working Startup', 'Finance company',\n",
       "       'Tech company', 'Solar Monitoring Company',\n",
       "       'Video sharing platform', 'Gaming startup',\n",
       "       'Video streaming platform', 'Consumer appliances',\n",
       "       'Blockchain startup', 'Conversational AI platform', 'Real Estate',\n",
       "       'SaaS platform', 'AI platform', 'Fusion beverages', 'HR Tech',\n",
       "       'Job portal', 'Hospitality', 'Digital Media', 'Dairy startup',\n",
       "       'Content management', 'Spacetech', 'Transportation',\n",
       "       'Trading platform', 'AI Company', 'Photonics startup',\n",
       "       'Entertainment', 'Cosmetics', 'Scanning app', 'Skincare startup',\n",
       "       'Food and Beverages', 'Biotechnology company', 'FoodTech',\n",
       "       'Proptech', 'CleanTech', 'Fitness startup', 'Healthcare',\n",
       "       'PaaS startup', 'Beverages', 'Social Media', 'Automobiles',\n",
       "       'Deeptech', 'EV startup', 'AR/VR startup', 'Recruitment startup',\n",
       "       'QSR startup', 'Video platform', 'Edtech', 'Fertility tech',\n",
       "       'Luxury car startup', 'FM', 'Food', 'Nutrition sector',\n",
       "       'Tech platform', 'Video', 'Retail Tech', 'HeathTech',\n",
       "       'Sles and marketing', 'LegalTech', 'Car Service',\n",
       "       'Bike marketplace', 'Agri tech', 'Reatil startup', 'AR platform',\n",
       "       'Consumer Goods', 'Content marketplace', 'Interior Design',\n",
       "       'Rental space', 'Soil-Tech', 'Ayurveda tech',\n",
       "       'Packaging solution startup', 'Cleantech', 'Sanitation solutions',\n",
       "       'HealthCare', 'Home Design', 'InsureTech', 'AI Startup',\n",
       "       'Solar solution', 'Jewellery startup',\n",
       "       'Multinational conglomerate company', 'Deeptech startup',\n",
       "       'Social Network', 'Publication', 'Tech', 'Fashion', 'Finance',\n",
       "       'Venture capital', 'Entreprenurship', 'Food devlivery',\n",
       "       'Warehouse', 'Online financial service', 'Eyeglasses',\n",
       "       'Battery design', 'Online credit management startup', 'Beverage',\n",
       "       'TravelTech', 'Agriculture', 'Startup laboratory',\n",
       "       'Personal care startup', 'Customer service company',\n",
       "       'SaaS\\xa0\\xa0startup', 'Marketing startup', 'Service industry',\n",
       "       'Social media', 'AI', 'Jewellery', 'AR startup', 'HR Tech startup',\n",
       "       'Automotive Startup', 'Food Startup', 'EdTech Startup',\n",
       "       'Car Trade', 'EdtTech', 'Manufacturing', 'AI Platform',\n",
       "       'Automation', 'Solar SaaS', 'WL & RAC protection',\n",
       "       'Social commerce', 'Home interior services', 'Agritech startup',\n",
       "       'API platform', 'Deep Tech', 'Electricity', 'Automotive company',\n",
       "       'FMCG', 'Insurance Tech', 'Video personalization',\n",
       "       'Software Company', 'Biomaterial startup', 'Health', 'IT',\n",
       "       'Craft Beer', 'Healthtech', 'Education', 'Investment',\n",
       "       'Linguistic Spiritual', 'Construction', 'Battery manufacturer',\n",
       "       'Nano Distribution Network', 'AI health', 'Dating app', 'Media',\n",
       "       'Fintech', 'Healthcare/Edtech', 'Social Commerce',\n",
       "       'Agritech/Commerce', 'Mobility tech', 'Social e-commerce',\n",
       "       'Food & Logistics', 'SpaceTech', 'Nutrition Tech', 'HR', 'IoT',\n",
       "       nan, 'Agritech', 'Interior design', 'Foodtech', 'AR/VR',\n",
       "       'Appliance', 'HR tech', 'Food tech', 'Mental Health', 'Ecommerce',\n",
       "       'Solar Solution', 'SaaS', 'Automobile', 'B2B marketplace',\n",
       "       'Fashion Tech', 'Nutrition tech', 'Health & Wellness',\n",
       "       'Cloud Kitchen', 'IoT/Automobile', 'Eye Wear', 'Digital tech',\n",
       "       'Data Intelligence', 'Co-living', 'Food & Beverages', 'Automotive',\n",
       "       'B2B', 'Defense tech', 'Marketplace', 'Construction tech',\n",
       "       'Nutrition', 'Coworking', 'Micro-mobiity', 'Auto-tech', 'Beauty',\n",
       "       'Robotics', 'Yoga & wellness', 'Logitech', 'Med Tech',\n",
       "       'Life sciences', 'Retail Aggregator', 'Deep Tech AI', 'Biotech',\n",
       "       'Blockchain', 'HrTech', 'Mobility/Transport', 'Travel', 'Rental',\n",
       "       'AI & Debt', 'SaaS/Edtech', 'Transport', 'Co-working', 'Insurtech',\n",
       "       'Cryptocurrency', 'Automotive tech', 'Legal', 'Fitness', 'EV',\n",
       "       'Supply chain, Agritech', 'Pharma', 'Insurance technology',\n",
       "       'Foodtech & Logistics', 'Housing', 'Pharmaceutical',\n",
       "       'Data Analytics', 'Investment Tech', 'Financial Services',\n",
       "       'Biopharma', 'Dairy', 'Beauty & wellness', 'Travel & SaaS',\n",
       "       'Tourism & EV', 'Media Tech', 'Location Analytics', 'E store',\n",
       "       'Data Science', 'Insurance', 'Health and Fitness', 'Technology',\n",
       "       'Interior & decor', 'eMobility', 'Automation tech',\n",
       "       'Media & Networking', 'E-market', 'AI & Data science',\n",
       "       'Travel tech', 'Automotive and Rentals', 'E-tail', 'Accomodation',\n",
       "       'AI & Media', 'Machine Learning', 'Content Marktplace',\n",
       "       'Visual Media', 'Hygiene', 'VR & SaaS', 'Sales & Services',\n",
       "       'AI & Deep learning', 'Housing & Rentals', 'Estore', 'Marketing',\n",
       "       'E tailor', 'E-mobility', 'Ad-tech', 'Neo-banking',\n",
       "       'Transport Automation', 'Techonology', 'Transport & Rentals',\n",
       "       'AI Robotics', 'Preschool Daycare', 'Food diet', 'B2B Agritech',\n",
       "       'E-connect', 'Tech hub', 'Consultancy', 'Pharmacy', 'Deisgning',\n",
       "       'Taxation', 'Automobile Technology'], dtype=object)"
      ]
     },
     "execution_count": 34,
     "metadata": {},
     "output_type": "execute_result"
    }
   ],
   "source": [
    "df_2020['Sector'].unique()"
   ]
  },
  {
   "cell_type": "code",
   "execution_count": 35,
   "metadata": {},
   "outputs": [
    {
     "data": {
      "text/plain": [
       "0                 agritech\n",
       "1                   edtech\n",
       "2       hygiene management\n",
       "3                   escrow\n",
       "4                 agritech\n",
       "               ...        \n",
       "1050                edtech\n",
       "1051               fintech\n",
       "1052             cosmetics\n",
       "1053             transport\n",
       "1054              logitech\n",
       "Name: Sector, Length: 1055, dtype: object"
      ]
     },
     "execution_count": 35,
     "metadata": {},
     "output_type": "execute_result"
    }
   ],
   "source": [
    "df_2020['Sector']=df_2020['Sector'].str.lower()\n",
    "df_2020['Sector']"
   ]
  },
  {
   "cell_type": "code",
   "execution_count": 36,
   "metadata": {},
   "outputs": [
    {
     "data": {
      "text/plain": [
       "Sector\n",
       "fintech          131\n",
       "edtech           107\n",
       "healthtech        42\n",
       "agritech          38\n",
       "e-commerce        33\n",
       "saas              24\n",
       "ecommerce         22\n",
       "media             19\n",
       "tech              19\n",
       "ai                18\n",
       "gaming            16\n",
       "logistics         16\n",
       "saas startup      15\n",
       "foodtech          15\n",
       "healthcare        14\n",
       "tech startup      14\n",
       "ai startup        13\n",
       "entertainment     12\n",
       "food              12\n",
       "tech company      10\n",
       "Name: count, dtype: int64"
      ]
     },
     "execution_count": 36,
     "metadata": {},
     "output_type": "execute_result"
    }
   ],
   "source": [
    "df_2020['Sector'].value_counts().head(20)"
   ]
  },
  {
   "cell_type": "code",
   "execution_count": 37,
   "metadata": {},
   "outputs": [
    {
     "name": "stdout",
     "output_type": "stream",
     "text": [
      "<class 'pandas.core.frame.DataFrame'>\n",
      "RangeIndex: 1055 entries, 0 to 1054\n",
      "Data columns (total 9 columns):\n",
      " #   Column         Non-Null Count  Dtype  \n",
      "---  ------         --------------  -----  \n",
      " 0   Company/Brand  1055 non-null   object \n",
      " 1   Founded        1055 non-null   int32  \n",
      " 2   HeadQuarter    1055 non-null   object \n",
      " 3   Sector         1055 non-null   object \n",
      " 4   What_it_does   1055 non-null   object \n",
      " 5   Founders       1055 non-null   object \n",
      " 6   Investor       1055 non-null   object \n",
      " 7   Amount($)      1055 non-null   float64\n",
      " 8   Stage          1055 non-null   object \n",
      "dtypes: float64(1), int32(1), object(7)\n",
      "memory usage: 70.2+ KB\n"
     ]
    }
   ],
   "source": [
    "\n",
    "mode_Sector=df_2020['Sector'].mode()[0]\n",
    "df_2020['Sector'].fillna(mode_Sector, inplace=True)\n",
    "df_2020.info()"
   ]
  },
  {
   "cell_type": "code",
   "execution_count": 42,
   "metadata": {},
   "outputs": [
    {
     "name": "stdout",
     "output_type": "stream",
     "text": [
      "Sector\n",
      "fintech                               144\n",
      "edtech                                107\n",
      "healthtech                             42\n",
      "agritech                               38\n",
      "e-commerce                             33\n",
      "saas                                   24\n",
      "ecommerce                              22\n",
      "media                                  19\n",
      "tech                                   19\n",
      "ai                                     18\n",
      "gaming                                 16\n",
      "logistics                              16\n",
      "saas startup                           15\n",
      "foodtech                               15\n",
      "healthcare                             14\n",
      "tech startup                           14\n",
      "ai startup                             13\n",
      "entertainment                          12\n",
      "food                                   12\n",
      "tech company                           10\n",
      "iot                                     8\n",
      "cosmetics                               7\n",
      "automobile                              7\n",
      "fashion                                 7\n",
      "finance                                 6\n",
      "hr tech                                 6\n",
      "real estate                             6\n",
      "retail                                  6\n",
      "transport                               5\n",
      "gaming startup                          5\n",
      "food & bevarages                        5\n",
      "beverage                                5\n",
      "medtech                                 5\n",
      "hospitality                             5\n",
      "logitech                                5\n",
      "marketplace                             5\n",
      "food industry                           5\n",
      "digital media                           4\n",
      "saas platform                           4\n",
      "social media                            4\n",
      "social commerce                         4\n",
      "fitness                                 4\n",
      "insurtech                               4\n",
      "edtech startup                          4\n",
      "spacetech                               4\n",
      "fmcg                                    4\n",
      "fitness startup                         4\n",
      "cleantech                               4\n",
      "social e-commerce                       4\n",
      "beverages                               3\n",
      "automobiles                             3\n",
      "deeptech                                3\n",
      "rental                                  3\n",
      "ev startup                              3\n",
      "e-market                                3\n",
      "technology                              3\n",
      "interior design                         3\n",
      "publication                             3\n",
      "health                                  3\n",
      "it                                      3\n",
      "b2b                                     3\n",
      "automotive                              3\n",
      "health & wellness                       3\n",
      "proptech                                3\n",
      "legaltech                               3\n",
      "food tech                               3\n",
      "automotive and rentals                  3\n",
      "finance company                         3\n",
      "venture capitalist                      3\n",
      "job portal                              3\n",
      "retail startup                          2\n",
      "pharmaceutical                          2\n",
      "home design                             2\n",
      "solar solution                          2\n",
      "venture capital                         2\n",
      "food devlivery                          2\n",
      "traveltech                              2\n",
      "co-working                              2\n",
      "e-mobility                              2\n",
      "travel                                  2\n",
      "dairy                                   2\n",
      "automation                              2\n",
      "yoga & wellness                         2\n",
      "nutrition                               2\n",
      "software company                        2\n",
      "education                               2\n",
      "b2b agritech                            2\n",
      "food & beverages                        2\n",
      "fashion startup                         2\n",
      "b2b marketplace                         2\n",
      "nutrition tech                          2\n",
      "ai platform                             2\n",
      "biotechnology company                   2\n",
      "recruitment startup                     2\n",
      "accomodation                            2\n",
      "transportation                          2\n",
      "car service                             2\n",
      "retail tech                             2\n",
      "tourism & ev                            1\n",
      "micro-mobiity                           1\n",
      "ai robotics                             1\n",
      "defense tech                            1\n",
      "transport & rentals                     1\n",
      "construction tech                       1\n",
      "visual media                            1\n",
      "coworking                               1\n",
      "beauty                                  1\n",
      "auto-tech                               1\n",
      "robotics                                1\n",
      "ai & data science                       1\n",
      "techonology                             1\n",
      "hygiene                                 1\n",
      "transport automation                    1\n",
      "med tech                                1\n",
      "preschool daycare                       1\n",
      "content marktplace                      1\n",
      "food diet                               1\n",
      "neo-banking                             1\n",
      "taxation                                1\n",
      "deisgning                               1\n",
      "pharmacy                                1\n",
      "consultancy                             1\n",
      "e-tail                                  1\n",
      "travel tech                             1\n",
      "fashion tech                            1\n",
      "tech hub                                1\n",
      "cloud kitchen                           1\n",
      "e-connect                               1\n",
      "iot/automobile                          1\n",
      "eye wear                                1\n",
      "digital tech                            1\n",
      "data intelligence                       1\n",
      "co-living                               1\n",
      "ai & media                              1\n",
      "machine learning                        1\n",
      "life sciences                           1\n",
      "deep tech ai                            1\n",
      "retail aggregator                       1\n",
      "data science                            1\n",
      "housing & rentals                       1\n",
      "ai & deep learning                      1\n",
      "sales & services                        1\n",
      "supply chain, agritech                  1\n",
      "pharma                                  1\n",
      "insurance technology                    1\n",
      "foodtech & logistics                    1\n",
      "e store                                 1\n",
      "housing                                 1\n",
      "mental health                           1\n",
      "data analytics                          1\n",
      "investment tech                         1\n",
      "financial services                      1\n",
      "biopharma                               1\n",
      "location analytics                      1\n",
      "media tech                              1\n",
      "beauty & wellness                       1\n",
      "estore                                  1\n",
      "ev                                      1\n",
      "travel & saas                           1\n",
      "marketing                               1\n",
      "biotech                                 1\n",
      "blockchain                              1\n",
      "hrtech                                  1\n",
      "ad-tech                                 1\n",
      "mobility/transport                      1\n",
      "media & networking                      1\n",
      "automation tech                         1\n",
      "ai & debt                               1\n",
      "saas/edtech                             1\n",
      "emobility                               1\n",
      "interior & decor                        1\n",
      "vr & saas                               1\n",
      "health and fitness                      1\n",
      "insurance                               1\n",
      "cryptocurrency                          1\n",
      "automotive tech                         1\n",
      "legal                                   1\n",
      "e tailor                                1\n",
      "solar saas                              1\n",
      "appliance                               1\n",
      "trading platform                        1\n",
      "photonics startup                       1\n",
      "scanning app                            1\n",
      "skincare startup                        1\n",
      "food and beverages                      1\n",
      "paas startup                            1\n",
      "ar/vr startup                           1\n",
      "qsr startup                             1\n",
      "video platform                          1\n",
      "fertility tech                          1\n",
      "luxury car startup                      1\n",
      "fm                                      1\n",
      "nutrition sector                        1\n",
      "tech platform                           1\n",
      "video                                   1\n",
      "heathtech                               1\n",
      "sles and marketing                      1\n",
      "bike marketplace                        1\n",
      "agri tech                               1\n",
      "reatil startup                          1\n",
      "ar platform                             1\n",
      "consumer goods                          1\n",
      "content marketplace                     1\n",
      "rental space                            1\n",
      "ai company                              1\n",
      "content management                      1\n",
      "ar/vr                                   1\n",
      "dairy startup                           1\n",
      "hygiene management                      1\n",
      "escrow                                  1\n",
      "networking platform                     1\n",
      "crowdsourcing                           1\n",
      "food delivery                           1\n",
      "virtual auditing startup                1\n",
      "work fulfillment                        1\n",
      "telecommunication                       1\n",
      "sports                                  1\n",
      "tyre management                         1\n",
      "cloud company                           1\n",
      "renewable player                        1\n",
      "iot startup                             1\n",
      "aero company                            1\n",
      "marketing company                       1\n",
      "co-working startup                      1\n",
      "solar monitoring company                1\n",
      "video sharing platform                  1\n",
      "video streaming platform                1\n",
      "consumer appliances                     1\n",
      "blockchain startup                      1\n",
      "conversational ai platform              1\n",
      "fusion beverages                        1\n",
      "soil-tech                               1\n",
      "ayurveda tech                           1\n",
      "packaging solution startup              1\n",
      "sanitation solutions                    1\n",
      "wl & rac protection                     1\n",
      "home interior services                  1\n",
      "agritech startup                        1\n",
      "api platform                            1\n",
      "deep tech                               1\n",
      "electricity                             1\n",
      "automotive company                      1\n",
      "insurance tech                          1\n",
      "video personalization                   1\n",
      "biomaterial startup                     1\n",
      "craft beer                              1\n",
      "investment                              1\n",
      "linguistic spiritual                    1\n",
      "construction                            1\n",
      "battery manufacturer                    1\n",
      "nano distribution network               1\n",
      "ai health                               1\n",
      "dating app                              1\n",
      "healthcare/edtech                       1\n",
      "agritech/commerce                       1\n",
      "mobility tech                           1\n",
      "food & logistics                        1\n",
      "hr                                      1\n",
      "manufacturing                           1\n",
      "edttech                                 1\n",
      "car trade                               1\n",
      "online credit management startup        1\n",
      "insuretech                              1\n",
      "jewellery startup                       1\n",
      "multinational conglomerate company      1\n",
      "deeptech startup                        1\n",
      "social network                          1\n",
      "entreprenurship                         1\n",
      "warehouse                               1\n",
      "online financial service                1\n",
      "eyeglasses                              1\n",
      "battery design                          1\n",
      "agriculture                             1\n",
      "food startup                            1\n",
      "startup laboratory                      1\n",
      "personal care startup                   1\n",
      "customer service company                1\n",
      "saas  startup                           1\n",
      "marketing startup                       1\n",
      "service industry                        1\n",
      "jewellery                               1\n",
      "ar startup                              1\n",
      "hr tech startup                         1\n",
      "automotive startup                      1\n",
      "automobile technology                   1\n"
     ]
    }
   ],
   "source": [
    "value_counts = df_2020['Sector'].value_counts(ascending=False)\n",
    "#print(value_counts)\n",
    "\n",
    "# Set max_rows to None for displaying all rows\n",
    "pd.set_option('display.max_rows', None)\n",
    "\n",
    "# Display the value counts in descending order\n",
    "print(value_counts.to_string())"
   ]
  },
  {
   "cell_type": "markdown",
   "metadata": {},
   "source": [
    "Finance\n",
    "Education\n",
    "Health\n",
    "Agriculture\n",
    "E-commerce\n",
    "Technology\n",
    "Marketing and advertising\n",
    "Transportation & Logistics\n",
    "Food and Beverages\n",
    "Hospitality\n",
    "Manufacturing\n",
    "Lifestyle\n",
    "Sports\n",
    "Media & Entertainment\n",
    "Retail\n",
    "Engineering\n",
    "Energy\n",
    "Real Estate\n",
    "Human Resources\n",
    "Services\n",
    "Accomodation\n",
    "\n",
    "\n",
    "\n",
    "\n"
   ]
  },
  {
   "cell_type": "code",
   "execution_count": 38,
   "metadata": {},
   "outputs": [
    {
     "data": {
      "text/plain": [
       "285"
      ]
     },
     "execution_count": 38,
     "metadata": {},
     "output_type": "execute_result"
    }
   ],
   "source": [
    "df_2020[\"Sector\"].nunique()"
   ]
  },
  {
   "cell_type": "code",
   "execution_count": 80,
   "metadata": {},
   "outputs": [
    {
     "data": {
      "text/plain": [
       "array(['Agriculture', 'Education', 'Health', 'Finance', 'Technology',\n",
       "       'E-commerce', 'Food and Beverages', 'Lifestyle',\n",
       "       'Transportation & Logistics', 'Transportation', 'Sports', 'Retail',\n",
       "       'Engineering', 'Energy', 'Manufacturing',\n",
       "       'Marketing and advertising', 'Real Estate', 'Human Resources',\n",
       "       'Hospitality', 'Media & Entertainment', 'Services', 'video',\n",
       "       'heathtech', 'sles and marketing', 'bike marketplace', 'agri tech',\n",
       "       'reatil startup', 'ar platform', 'consumer goods',\n",
       "       'content marketplace', 'rental space', 'soil-tech',\n",
       "       'ayurveda tech', 'packaging solution startup',\n",
       "       'sanitation solutions', 'insuretech', 'jewellery startup',\n",
       "       'multinational conglomerate company', 'deeptech startup',\n",
       "       'social network', 'entreprenurship', 'warehouse',\n",
       "       'online financial service', 'eyeglasses', 'battery design',\n",
       "       'online credit management startup', 'agriculture',\n",
       "       'startup laboratory', 'personal care startup',\n",
       "       'customer service company', 'saas\\xa0\\xa0startup',\n",
       "       'marketing startup', 'service industry', 'jewellery', 'ar startup',\n",
       "       'hr tech startup', 'agritech startup', 'api platform', 'deep tech',\n",
       "       'electricity', 'automotive company', 'insurance tech',\n",
       "       'video personalization', 'biomaterial startup',\n",
       "       'linguistic spiritual', 'nano distribution network', 'ar/vr',\n",
       "       'appliance', 'mental health', 'fashion tech', 'cloud kitchen',\n",
       "       'iot/automobile', 'digital tech', 'data intelligence', 'co-living',\n",
       "       'defense tech', 'construction tech', 'coworking', 'micro-mobiity',\n",
       "       'auto-tech', 'beauty', 'robotics', 'med tech', 'life sciences',\n",
       "       'retail aggregator', 'deep tech ai', 'biotech', 'blockchain',\n",
       "       'hrtech', 'mobility/transport', 'Accomodation', 'ai & debt',\n",
       "       'saas/edtech', 'cryptocurrency', 'legal', 'ev',\n",
       "       'supply chain, agritech', 'pharma', 'insurance technology',\n",
       "       'foodtech & logistics', 'housing', 'data analytics',\n",
       "       'investment tech', 'financial services', 'biopharma',\n",
       "       'beauty & wellness', 'travel & saas', 'tourism & ev', 'media tech',\n",
       "       'location analytics', 'e store', 'data science', 'insurance',\n",
       "       'health and fitness', 'interior & decor', 'emobility',\n",
       "       'automation tech', 'media & networking', 'ai & data science',\n",
       "       'travel tech', 'e-tail', 'ai & media', 'machine learning',\n",
       "       'content marktplace', 'visual media', 'hygiene', 'vr & saas',\n",
       "       'sales & services', 'ai & deep learning', 'housing & rentals',\n",
       "       'estore', 'marketing', 'e tailor', 'ad-tech', 'neo-banking',\n",
       "       'transport automation', 'techonology', 'transport & rentals',\n",
       "       'ai robotics', 'preschool daycare', 'food diet', 'e-connect',\n",
       "       'tech hub', 'consultancy', 'pharmacy', 'deisgning'], dtype=object)"
      ]
     },
     "execution_count": 80,
     "metadata": {},
     "output_type": "execute_result"
    }
   ],
   "source": [
    "#Define a function for recategorization\n",
    "def recategorize(sector):\n",
    "    if sector in ['fintech','escrow','venture capitalist','finance company','finance','insurtech','investment',\n",
    "                  'taxation','venture capital']:\n",
    "        return 'Finance'\n",
    "    elif sector in ['edtech','edtech startup','education','edttech']:\n",
    "        return 'Education'\n",
    "    elif sector in ['healthtech','healthcare','medtech','hygiene management','cleantech','fertility tech','nutrition sector',\n",
    "                    'health & wellness','health','yoga & wellness','pharmaceutical','nutrition','nutrition tech',\n",
    "                    'eye wear','healthcare/edtech','ai health']:\n",
    "        return 'Health'\n",
    "    elif sector in ['agritech','dairy startup','dairy','b2b agritech','agritech/commerce','agritech startup']:\n",
    "        return 'Agriculture'\n",
    "    elif sector in ['e-commerce','ecommerce','crowdsourcing','social e-commerce','social commerce','e-market','b2b marketplace']:\n",
    "        return 'E-commerce'\n",
    "    elif sector in ['saas','tech','ai','gaming','saas startup','tech startup','ai startup','tech company',\n",
    "                    'iot','networking platform','virtual auditing startup','telecommunication','cloud company',\n",
    "                    'software company','iot startup','video sharing platform','gaming startup','video streaming platform',\n",
    "                    'blockchain startup','conversational ai platform','saas platform','ai platform','trading platform',\n",
    "                    'ai company','scanning app','biotechnology company','proptech','fitness startup','paas startup',\n",
    "                    'deeptech','ev startup','ar/vr startup','qsr startup','tech platform','logitech','automobile technology',\n",
    "                    'technology','it','automation','automotive tech','solar saas','wl & rac protection']:\n",
    "        return 'Technology'\n",
    "    elif sector in ['marketing company','job portal']:\n",
    "        return 'Marketing and advertising'\n",
    "    elif sector in ['logistics','food delivery','transportation','transport','e-mobility','food devlivery','food & logistics','mobility tech']:\n",
    "        return 'Transportation & Logistics'\n",
    "    elif sector in ['foodtech','food ','food & bevarages','food industry','fusion beverages','food and beverages',\n",
    "                    'beverages','food','beverage','food tech','food & beverages','craft beer','food startup','foodtech & logistics']:\n",
    "        return 'Food and Beverages'\n",
    "    elif sector in ['hospitality']:\n",
    "        return 'Hospitality'\n",
    "    elif sector in ['cosmetics','automobile','aero company','skincare startup','automobiles','automotive','battery manufacturer',\n",
    "                    'automotive startup','manufacturing']:\n",
    "        return 'Manufacturing'\n",
    "    elif sector in ['fashion','fashion startup','work fulfillment','luxury car startup','fitness','interior design',\n",
    "                    'traveltech','travel']:\n",
    "        return 'Lifestyle'\n",
    "    elif sector in ['sports']:\n",
    "        return 'Sports'\n",
    "    elif sector in ['media','entertainment','digital media','photonics startup','social media','video platform','fm',\n",
    "                    'publication','dating app']:\n",
    "        return 'Media & Entertainment'\n",
    "    elif sector in ['retail','retail startup','consumer appliances','marketplace','fmcg','retail tech','car trade']:\n",
    "        return 'Retail'\n",
    "    elif sector in ['tyre management','spacetech','solar solution']:\n",
    "        return 'Engineering'\n",
    "    elif sector in ['renewable player','solar monitoring company']:\n",
    "        return 'Energy'\n",
    "    elif sector in ['co-working startup','real estate','construction','co-working']:\n",
    "        return 'Real Estate'\n",
    "    elif sector in ['hr tech','recruitment startup','hr']:\n",
    "        return 'Human Resources'\n",
    "    elif sector in ['content management','automotive and rentals','legaltech','b2b','home design','car service','home interior services']:\n",
    "        return 'Services'\n",
    "    elif sector in ['rental','accomodation']:\n",
    "        return 'Accomodation'\n",
    "\n",
    "    else:\n",
    "        return sector\n",
    "    \n",
    "df_2020['Sector'] = df_2020['Sector'].apply(recategorize)\n",
    "\n",
    "df_2020['Sector'].unique()"
   ]
  },
  {
   "cell_type": "code",
   "execution_count": 77,
   "metadata": {},
   "outputs": [
    {
     "data": {
      "text/plain": [
       "Sector\n",
       "Technology                    198\n",
       "Finance                       165\n",
       "Education                     114\n",
       "Health                         83\n",
       "E-commerce                     69\n",
       "Food and Beverages             54\n",
       "Agriculture                    43\n",
       "Manufacturing                  25\n",
       "Marketing and advertising      23\n",
       "Lifestyle                      22\n",
       "Retail                         21\n",
       "Hospitality                    17\n",
       "Transportation                 16\n",
       "Services                       15\n",
       "Media & Entertainment          14\n",
       "Transportation & Logistics     12\n",
       "Real Estate                    10\n",
       "Human Resources                 8\n",
       "Engineering                     7\n",
       "Accomodation                    5\n",
       "Energy                          2\n",
       "financial services              1\n",
       "insurance technology            1\n",
       "foodtech & logistics            1\n",
       "housing                         1\n",
       "data analytics                  1\n",
       "investment tech                 1\n",
       "travel & saas                   1\n",
       "biopharma                       1\n",
       "beauty & wellness               1\n",
       "Name: count, dtype: int64"
      ]
     },
     "execution_count": 77,
     "metadata": {},
     "output_type": "execute_result"
    }
   ],
   "source": [
    "df_2020['Sector'].value_counts().head(30)"
   ]
  },
  {
   "cell_type": "code",
   "execution_count": 82,
   "metadata": {},
   "outputs": [
    {
     "data": {
      "text/plain": [
       "146"
      ]
     },
     "execution_count": 82,
     "metadata": {},
     "output_type": "execute_result"
    }
   ],
   "source": [
    "df_2020['Sector'].nunique()"
   ]
  },
  {
   "cell_type": "code",
   "execution_count": 81,
   "metadata": {},
   "outputs": [
    {
     "data": {
      "text/plain": [
       "Sector\n",
       "cloud kitchen                1\n",
       "fashion tech                 1\n",
       "mental health                1\n",
       "appliance                    1\n",
       "nano distribution network    1\n",
       "marketing startup            1\n",
       "linguistic spiritual         1\n",
       "biomaterial startup          1\n",
       "video personalization        1\n",
       "insurance tech               1\n",
       "automotive company           1\n",
       "electricity                  1\n",
       "deep tech                    1\n",
       "api platform                 1\n",
       "agritech startup             1\n",
       "hr tech startup              1\n",
       "ar startup                   1\n",
       "jewellery                    1\n",
       "service industry             1\n",
       "deisgning                    1\n",
       "Name: count, dtype: int64"
      ]
     },
     "execution_count": 81,
     "metadata": {},
     "output_type": "execute_result"
    }
   ],
   "source": [
    "df_2020['Sector'].value_counts().tail(20)"
   ]
  }
 ],
 "metadata": {
  "kernelspec": {
   "display_name": ".venv",
   "language": "python",
   "name": "python3"
  },
  "language_info": {
   "codemirror_mode": {
    "name": "ipython",
    "version": 3
   },
   "file_extension": ".py",
   "mimetype": "text/x-python",
   "name": "python",
   "nbconvert_exporter": "python",
   "pygments_lexer": "ipython3",
   "version": "3.11.1"
  },
  "orig_nbformat": 4
 },
 "nbformat": 4,
 "nbformat_minor": 2
}
